{
  "nbformat": 4,
  "nbformat_minor": 0,
  "metadata": {
    "colab": {
      "provenance": [],
      "authorship_tag": "ABX9TyPIk7ckDbruITL8NZN/7MMx",
      "include_colab_link": true
    },
    "kernelspec": {
      "name": "python3",
      "display_name": "Python 3"
    },
    "language_info": {
      "name": "python"
    }
  },
  "cells": [
    {
      "cell_type": "markdown",
      "metadata": {
        "id": "view-in-github",
        "colab_type": "text"
      },
      "source": [
        "<a href=\"https://colab.research.google.com/github/aerosense-ai/notebooks/blob/main/parse_log.ipynb\" target=\"_parent\"><img src=\"https://colab.research.google.com/assets/colab-badge.svg\" alt=\"Open In Colab\"/></a>"
      ]
    },
    {
      "cell_type": "code",
      "execution_count": 2,
      "metadata": {
        "colab": {
          "base_uri": "https://localhost:8080/"
        },
        "id": "UOTIWX1L-9_M",
        "outputId": "0a3a2c67-e2c7-4124-c52d-244463d90d85"
      },
      "outputs": [
        {
          "output_type": "stream",
          "name": "stdout",
          "text": [
            "Mounted at /content/drive\n"
          ]
        }
      ],
      "source": [
        "from google.colab import drive\n",
        "drive.mount('/content/drive')"
      ]
    },
    {
      "cell_type": "code",
      "source": [
        "import re\n",
        "from datetime import datetime\n",
        "\n",
        "\n",
        "def parse_log(file_name):\n",
        "    logfile = open(file_name, 'r')\n",
        "    Lines = logfile.readlines()\n",
        "\n",
        "    voltage_list = []\n",
        "    capacity_list = []\n",
        "    dates_list = []\n",
        "\n",
        "    for line in Lines:\n",
        "        line.strip()\n",
        "        if 'Voltage :' in line:\n",
        "            rr = re.findall(\"[-+]?[.]?[\\d]+(?:,\\d\\d\\d)*[\\.]?\\d*(?:[eE][-+]?\\d+)?\", line)\n",
        "            voltage = float(rr[-1])\n",
        "            timestamp = line[11:34]\n",
        "            datetime_object = datetime.strptime(timestamp, '%Y-%m-%d %H:%M:%S,%f')\n",
        "            voltage_list.append(voltage)\n",
        "            dates_list.append(datetime_object)\n",
        "\n",
        "        if 'State of charge:' in line:\n",
        "          capacity_list.append(float(line[17:25]))\n",
        "\n",
        "    \n",
        "    return dates_list, voltage_list, capacity_list\n"
      ],
      "metadata": {
        "id": "F5m7Z8mg_vhz"
      },
      "execution_count": 25,
      "outputs": []
    },
    {
      "cell_type": "code",
      "source": [
        "path=\"/content/drive/MyDrive/Share/AeroSense/20221208T072950-gateway.log\"\n",
        "dates, voltages, capacity = parse_log(path)"
      ],
      "metadata": {
        "id": "YruZD12b_-ZJ"
      },
      "execution_count": 26,
      "outputs": []
    },
    {
      "cell_type": "code",
      "source": [
        "import plotly.express as px\n",
        "\n",
        "figure = px.line(x=dates, y=voltages)\n",
        "figure.update_layout({\n",
        "    \"xaxis_title\": \"Date/Time\",\n",
        "    \"yaxis_title\": \"Voltage [V]\"\n",
        "    })\n",
        "figure.show()"
      ],
      "metadata": {
        "colab": {
          "base_uri": "https://localhost:8080/",
          "height": 542
        },
        "id": "Qb25Eo2FGKTW",
        "outputId": "da60390f-c980-45f2-b107-83b7dee854ec"
      },
      "execution_count": 15,
      "outputs": [
        {
          "output_type": "display_data",
          "data": {
            "text/html": [
              "<html>\n",
              "<head><meta charset=\"utf-8\" /></head>\n",
              "<body>\n",
              "    <div>            <script src=\"https://cdnjs.cloudflare.com/ajax/libs/mathjax/2.7.5/MathJax.js?config=TeX-AMS-MML_SVG\"></script><script type=\"text/javascript\">if (window.MathJax) {MathJax.Hub.Config({SVG: {font: \"STIX-Web\"}});}</script>                <script type=\"text/javascript\">window.PlotlyConfig = {MathJaxConfig: 'local'};</script>\n",
              "        <script src=\"https://cdn.plot.ly/plotly-2.8.3.min.js\"></script>                <div id=\"f9d20a3b-e357-4a87-8aae-68bf56381304\" class=\"plotly-graph-div\" style=\"height:525px; width:100%;\"></div>            <script type=\"text/javascript\">                                    window.PLOTLYENV=window.PLOTLYENV || {};                                    if (document.getElementById(\"f9d20a3b-e357-4a87-8aae-68bf56381304\")) {                    Plotly.newPlot(                        \"f9d20a3b-e357-4a87-8aae-68bf56381304\",                        [{\"hovertemplate\":\"x=%{x}<br>y=%{y}<extra></extra>\",\"legendgroup\":\"\",\"line\":{\"color\":\"#636efa\",\"dash\":\"solid\"},\"marker\":{\"symbol\":\"circle\"},\"mode\":\"lines\",\"name\":\"\",\"orientation\":\"v\",\"showlegend\":false,\"x\":[\"2022-12-09T09:00:09.849000\",\"2022-12-09T09:30:09.619000\",\"2022-12-09T10:00:09.901000\",\"2022-12-09T10:30:09.866000\",\"2022-12-09T11:00:09.952000\",\"2022-12-09T11:30:10.018000\",\"2022-12-09T12:00:10.093000\",\"2022-12-09T12:30:10.158000\",\"2022-12-09T13:00:10.245000\",\"2022-12-09T13:30:10.221000\",\"2022-12-09T14:00:10.306000\",\"2022-12-09T14:30:10.481000\",\"2022-12-10T09:30:14.085000\",\"2022-12-10T10:00:13.971000\",\"2022-12-10T10:30:14.057000\",\"2022-12-10T11:00:14.237000\",\"2022-12-10T11:30:14.322000\",\"2022-12-10T12:00:14.393000\",\"2022-12-10T12:30:14.389000\",\"2022-12-10T13:00:14.460000\",\"2022-12-10T13:30:14.550000\",\"2022-12-10T14:00:14.536000\",\"2022-12-10T14:30:14.609000\",\"2022-12-11T08:30:17.727000\",\"2022-12-11T09:00:17.817000\",\"2022-12-11T09:30:17.696000\",\"2022-12-11T10:00:17.783000\",\"2022-12-11T10:30:17.910000\",\"2022-12-11T11:00:17.998000\",\"2022-12-11T11:30:18.072000\",\"2022-12-11T12:00:18.156000\",\"2022-12-11T12:30:18.243000\",\"2022-12-11T13:00:19.398000\",\"2022-12-11T13:30:18.412000\",\"2022-12-11T14:00:18.496000\",\"2022-12-11T14:30:18.568000\",\"2022-12-11T15:00:18.654000\",\"2022-12-11T15:30:18.827000\",\"2022-12-11T16:00:18.801000\",\"2022-12-11T16:30:18.879000\",\"2022-12-11T17:00:18.957000\",\"2022-12-11T17:30:19.045000\",\"2022-12-11T18:00:19.027000\",\"2022-12-11T18:30:19.099000\",\"2022-12-11T19:00:19.276000\",\"2022-12-11T19:30:19.257000\",\"2022-12-11T20:00:19.349000\",\"2022-12-11T20:30:19.526000\",\"2022-12-11T21:00:19.502000\",\"2022-12-11T21:30:19.585000\",\"2022-12-11T22:00:19.657000\",\"2022-12-11T22:30:19.739000\",\"2022-12-11T23:00:19.821000\",\"2022-12-11T23:30:19.895000\",\"2022-12-12T00:00:19.978000\",\"2022-12-12T00:30:20.069000\",\"2022-12-12T01:00:20.148000\",\"2022-12-12T01:30:20.233000\",\"2022-12-12T02:00:20.404000\",\"2022-12-12T02:30:20.493000\",\"2022-12-12T03:00:20.574000\",\"2022-12-12T03:30:20.644000\",\"2022-12-12T04:00:20.732000\",\"2022-12-12T04:30:20.806000\",\"2022-12-12T05:00:20.895000\",\"2022-12-12T05:30:20.963000\",\"2022-12-12T06:00:21.037000\",\"2022-12-12T06:30:21.125000\",\"2022-12-12T07:00:21.207000\",\"2022-12-12T07:30:21.385000\",\"2022-12-12T08:00:21.362000\",\"2022-12-12T08:30:21.439000\",\"2022-12-12T09:00:21.523000\",\"2022-12-12T09:30:21.696000\",\"2022-12-12T10:00:21.779000\",\"2022-12-12T10:30:21.867000\",\"2022-12-12T11:00:21.946000\",\"2022-12-12T11:30:22.024000\",\"2022-12-12T12:00:22.108000\",\"2022-12-12T12:30:22.283000\",\"2022-12-12T13:00:22.364000\",\"2022-12-12T13:30:22.440000\",\"2022-12-12T14:00:22.415000\",\"2022-12-12T14:30:22.503000\",\"2022-12-12T15:00:22.574000\",\"2022-12-12T15:30:22.647000\",\"2022-12-12T16:00:22.739000\",\"2022-12-12T16:30:23.516000\",\"2022-12-12T17:00:22.788000\",\"2022-12-12T17:30:22.975000\",\"2022-12-12T18:00:23.097000\",\"2022-12-12T18:30:23.079000\",\"2022-12-12T19:00:23.250000\",\"2022-12-12T19:30:23.697000\",\"2022-12-12T20:00:23.379000\",\"2022-12-13T08:00:25.545000\",\"2022-12-13T08:30:25.405000\",\"2022-12-13T09:00:25.579000\",\"2022-12-13T09:30:25.665000\",\"2022-12-13T10:00:25.746000\",\"2022-12-13T10:30:25.817000\",\"2022-12-13T11:00:25.793000\",\"2022-12-13T11:30:25.874000\",\"2022-12-13T12:00:25.955000\",\"2022-12-13T12:30:26.127000\",\"2022-12-13T13:00:26.198000\",\"2022-12-13T13:30:26.766000\",\"2022-12-13T14:00:26.746000\",\"2022-12-13T14:30:26.432000\",\"2022-12-13T15:00:26.695000\",\"2022-12-13T15:30:26.581000\",\"2022-12-13T16:00:26.656000\",\"2022-12-13T16:30:26.828000\",\"2022-12-13T17:00:26.913000\",\"2022-12-13T17:30:26.884000\",\"2022-12-13T18:00:27.369000\",\"2022-12-13T18:30:27.139000\",\"2022-12-13T19:00:27.230000\",\"2022-12-13T19:30:27.599000\",\"2022-12-13T20:00:27.485000\",\"2022-12-13T20:30:27.361000\",\"2022-12-13T21:00:27.437000\",\"2022-12-13T21:30:27.725000\",\"2022-12-13T22:00:27.603000\",\"2022-12-14T09:00:29.757000\",\"2022-12-14T09:30:29.645000\",\"2022-12-14T10:00:29.717000\",\"2022-12-14T10:30:29.786000\",\"2022-12-14T11:00:29.975000\",\"2022-12-14T11:30:29.963000\",\"2022-12-14T12:00:30.065000\",\"2022-12-14T12:30:30.143000\",\"2022-12-14T13:00:30.227000\",\"2022-12-14T13:30:30.296000\",\"2022-12-14T14:00:30.380000\",\"2022-12-14T14:30:30.469000\"],\"xaxis\":\"x\",\"y\":[3.232812,3.213671,3.219765,3.28375,3.350781,3.33914,3.33289,3.332265,3.304453,3.265703,3.169375,2.841406,3.189062,3.237421,3.330234,3.308671,3.322187,3.322734,3.285781,3.260312,3.21789,3.160859,2.862109,3.125625,3.44539,3.5925,3.693984,3.738281,3.731875,3.737734,3.741406,3.765625,3.774843,3.768906,3.764296,3.758593,3.744765,3.73039,3.718203,3.709296,3.706718,3.704375,3.698046,3.695703,3.688671,3.68164,3.679609,3.680156,3.674609,3.677578,3.675937,3.67,3.669453,3.66875,3.66375,3.663359,3.65914,3.654921,3.653984,3.647109,3.642734,3.635156,3.623359,3.607109,3.591015,3.566328,3.546562,3.522031,3.496015,3.465,3.441328,3.429765,3.449453,3.469062,3.503359,3.557265,3.595859,3.622812,3.651562,3.666875,3.677031,3.684609,3.677734,3.660781,3.6425,3.616328,3.58789,3.563359,3.531953,3.498359,3.451875,3.407187,3.346718,3.260546,3.16289,3.324375,3.369921,3.440078,3.517578,3.587734,3.611328,3.665234,3.720937,3.723203,3.724843,3.718203,3.712812,3.701562,3.696953,3.677031,3.667968,3.654296,3.639765,3.617421,3.59289,3.567031,3.536406,3.505937,3.463671,3.418281,3.360312,3.295234,3.203125,3.027968,3.238515,3.209765,3.208671,3.340234,3.60539,3.685546,3.676484,3.662265,3.664843,3.660781,3.642343,3.629453],\"yaxis\":\"y\",\"type\":\"scatter\"}],                        {\"template\":{\"data\":{\"bar\":[{\"error_x\":{\"color\":\"#2a3f5f\"},\"error_y\":{\"color\":\"#2a3f5f\"},\"marker\":{\"line\":{\"color\":\"#E5ECF6\",\"width\":0.5},\"pattern\":{\"fillmode\":\"overlay\",\"size\":10,\"solidity\":0.2}},\"type\":\"bar\"}],\"barpolar\":[{\"marker\":{\"line\":{\"color\":\"#E5ECF6\",\"width\":0.5},\"pattern\":{\"fillmode\":\"overlay\",\"size\":10,\"solidity\":0.2}},\"type\":\"barpolar\"}],\"carpet\":[{\"aaxis\":{\"endlinecolor\":\"#2a3f5f\",\"gridcolor\":\"white\",\"linecolor\":\"white\",\"minorgridcolor\":\"white\",\"startlinecolor\":\"#2a3f5f\"},\"baxis\":{\"endlinecolor\":\"#2a3f5f\",\"gridcolor\":\"white\",\"linecolor\":\"white\",\"minorgridcolor\":\"white\",\"startlinecolor\":\"#2a3f5f\"},\"type\":\"carpet\"}],\"choropleth\":[{\"colorbar\":{\"outlinewidth\":0,\"ticks\":\"\"},\"type\":\"choropleth\"}],\"contour\":[{\"colorbar\":{\"outlinewidth\":0,\"ticks\":\"\"},\"colorscale\":[[0.0,\"#0d0887\"],[0.1111111111111111,\"#46039f\"],[0.2222222222222222,\"#7201a8\"],[0.3333333333333333,\"#9c179e\"],[0.4444444444444444,\"#bd3786\"],[0.5555555555555556,\"#d8576b\"],[0.6666666666666666,\"#ed7953\"],[0.7777777777777778,\"#fb9f3a\"],[0.8888888888888888,\"#fdca26\"],[1.0,\"#f0f921\"]],\"type\":\"contour\"}],\"contourcarpet\":[{\"colorbar\":{\"outlinewidth\":0,\"ticks\":\"\"},\"type\":\"contourcarpet\"}],\"heatmap\":[{\"colorbar\":{\"outlinewidth\":0,\"ticks\":\"\"},\"colorscale\":[[0.0,\"#0d0887\"],[0.1111111111111111,\"#46039f\"],[0.2222222222222222,\"#7201a8\"],[0.3333333333333333,\"#9c179e\"],[0.4444444444444444,\"#bd3786\"],[0.5555555555555556,\"#d8576b\"],[0.6666666666666666,\"#ed7953\"],[0.7777777777777778,\"#fb9f3a\"],[0.8888888888888888,\"#fdca26\"],[1.0,\"#f0f921\"]],\"type\":\"heatmap\"}],\"heatmapgl\":[{\"colorbar\":{\"outlinewidth\":0,\"ticks\":\"\"},\"colorscale\":[[0.0,\"#0d0887\"],[0.1111111111111111,\"#46039f\"],[0.2222222222222222,\"#7201a8\"],[0.3333333333333333,\"#9c179e\"],[0.4444444444444444,\"#bd3786\"],[0.5555555555555556,\"#d8576b\"],[0.6666666666666666,\"#ed7953\"],[0.7777777777777778,\"#fb9f3a\"],[0.8888888888888888,\"#fdca26\"],[1.0,\"#f0f921\"]],\"type\":\"heatmapgl\"}],\"histogram\":[{\"marker\":{\"pattern\":{\"fillmode\":\"overlay\",\"size\":10,\"solidity\":0.2}},\"type\":\"histogram\"}],\"histogram2d\":[{\"colorbar\":{\"outlinewidth\":0,\"ticks\":\"\"},\"colorscale\":[[0.0,\"#0d0887\"],[0.1111111111111111,\"#46039f\"],[0.2222222222222222,\"#7201a8\"],[0.3333333333333333,\"#9c179e\"],[0.4444444444444444,\"#bd3786\"],[0.5555555555555556,\"#d8576b\"],[0.6666666666666666,\"#ed7953\"],[0.7777777777777778,\"#fb9f3a\"],[0.8888888888888888,\"#fdca26\"],[1.0,\"#f0f921\"]],\"type\":\"histogram2d\"}],\"histogram2dcontour\":[{\"colorbar\":{\"outlinewidth\":0,\"ticks\":\"\"},\"colorscale\":[[0.0,\"#0d0887\"],[0.1111111111111111,\"#46039f\"],[0.2222222222222222,\"#7201a8\"],[0.3333333333333333,\"#9c179e\"],[0.4444444444444444,\"#bd3786\"],[0.5555555555555556,\"#d8576b\"],[0.6666666666666666,\"#ed7953\"],[0.7777777777777778,\"#fb9f3a\"],[0.8888888888888888,\"#fdca26\"],[1.0,\"#f0f921\"]],\"type\":\"histogram2dcontour\"}],\"mesh3d\":[{\"colorbar\":{\"outlinewidth\":0,\"ticks\":\"\"},\"type\":\"mesh3d\"}],\"parcoords\":[{\"line\":{\"colorbar\":{\"outlinewidth\":0,\"ticks\":\"\"}},\"type\":\"parcoords\"}],\"pie\":[{\"automargin\":true,\"type\":\"pie\"}],\"scatter\":[{\"marker\":{\"colorbar\":{\"outlinewidth\":0,\"ticks\":\"\"}},\"type\":\"scatter\"}],\"scatter3d\":[{\"line\":{\"colorbar\":{\"outlinewidth\":0,\"ticks\":\"\"}},\"marker\":{\"colorbar\":{\"outlinewidth\":0,\"ticks\":\"\"}},\"type\":\"scatter3d\"}],\"scattercarpet\":[{\"marker\":{\"colorbar\":{\"outlinewidth\":0,\"ticks\":\"\"}},\"type\":\"scattercarpet\"}],\"scattergeo\":[{\"marker\":{\"colorbar\":{\"outlinewidth\":0,\"ticks\":\"\"}},\"type\":\"scattergeo\"}],\"scattergl\":[{\"marker\":{\"colorbar\":{\"outlinewidth\":0,\"ticks\":\"\"}},\"type\":\"scattergl\"}],\"scattermapbox\":[{\"marker\":{\"colorbar\":{\"outlinewidth\":0,\"ticks\":\"\"}},\"type\":\"scattermapbox\"}],\"scatterpolar\":[{\"marker\":{\"colorbar\":{\"outlinewidth\":0,\"ticks\":\"\"}},\"type\":\"scatterpolar\"}],\"scatterpolargl\":[{\"marker\":{\"colorbar\":{\"outlinewidth\":0,\"ticks\":\"\"}},\"type\":\"scatterpolargl\"}],\"scatterternary\":[{\"marker\":{\"colorbar\":{\"outlinewidth\":0,\"ticks\":\"\"}},\"type\":\"scatterternary\"}],\"surface\":[{\"colorbar\":{\"outlinewidth\":0,\"ticks\":\"\"},\"colorscale\":[[0.0,\"#0d0887\"],[0.1111111111111111,\"#46039f\"],[0.2222222222222222,\"#7201a8\"],[0.3333333333333333,\"#9c179e\"],[0.4444444444444444,\"#bd3786\"],[0.5555555555555556,\"#d8576b\"],[0.6666666666666666,\"#ed7953\"],[0.7777777777777778,\"#fb9f3a\"],[0.8888888888888888,\"#fdca26\"],[1.0,\"#f0f921\"]],\"type\":\"surface\"}],\"table\":[{\"cells\":{\"fill\":{\"color\":\"#EBF0F8\"},\"line\":{\"color\":\"white\"}},\"header\":{\"fill\":{\"color\":\"#C8D4E3\"},\"line\":{\"color\":\"white\"}},\"type\":\"table\"}]},\"layout\":{\"annotationdefaults\":{\"arrowcolor\":\"#2a3f5f\",\"arrowhead\":0,\"arrowwidth\":1},\"autotypenumbers\":\"strict\",\"coloraxis\":{\"colorbar\":{\"outlinewidth\":0,\"ticks\":\"\"}},\"colorscale\":{\"diverging\":[[0,\"#8e0152\"],[0.1,\"#c51b7d\"],[0.2,\"#de77ae\"],[0.3,\"#f1b6da\"],[0.4,\"#fde0ef\"],[0.5,\"#f7f7f7\"],[0.6,\"#e6f5d0\"],[0.7,\"#b8e186\"],[0.8,\"#7fbc41\"],[0.9,\"#4d9221\"],[1,\"#276419\"]],\"sequential\":[[0.0,\"#0d0887\"],[0.1111111111111111,\"#46039f\"],[0.2222222222222222,\"#7201a8\"],[0.3333333333333333,\"#9c179e\"],[0.4444444444444444,\"#bd3786\"],[0.5555555555555556,\"#d8576b\"],[0.6666666666666666,\"#ed7953\"],[0.7777777777777778,\"#fb9f3a\"],[0.8888888888888888,\"#fdca26\"],[1.0,\"#f0f921\"]],\"sequentialminus\":[[0.0,\"#0d0887\"],[0.1111111111111111,\"#46039f\"],[0.2222222222222222,\"#7201a8\"],[0.3333333333333333,\"#9c179e\"],[0.4444444444444444,\"#bd3786\"],[0.5555555555555556,\"#d8576b\"],[0.6666666666666666,\"#ed7953\"],[0.7777777777777778,\"#fb9f3a\"],[0.8888888888888888,\"#fdca26\"],[1.0,\"#f0f921\"]]},\"colorway\":[\"#636efa\",\"#EF553B\",\"#00cc96\",\"#ab63fa\",\"#FFA15A\",\"#19d3f3\",\"#FF6692\",\"#B6E880\",\"#FF97FF\",\"#FECB52\"],\"font\":{\"color\":\"#2a3f5f\"},\"geo\":{\"bgcolor\":\"white\",\"lakecolor\":\"white\",\"landcolor\":\"#E5ECF6\",\"showlakes\":true,\"showland\":true,\"subunitcolor\":\"white\"},\"hoverlabel\":{\"align\":\"left\"},\"hovermode\":\"closest\",\"mapbox\":{\"style\":\"light\"},\"paper_bgcolor\":\"white\",\"plot_bgcolor\":\"#E5ECF6\",\"polar\":{\"angularaxis\":{\"gridcolor\":\"white\",\"linecolor\":\"white\",\"ticks\":\"\"},\"bgcolor\":\"#E5ECF6\",\"radialaxis\":{\"gridcolor\":\"white\",\"linecolor\":\"white\",\"ticks\":\"\"}},\"scene\":{\"xaxis\":{\"backgroundcolor\":\"#E5ECF6\",\"gridcolor\":\"white\",\"gridwidth\":2,\"linecolor\":\"white\",\"showbackground\":true,\"ticks\":\"\",\"zerolinecolor\":\"white\"},\"yaxis\":{\"backgroundcolor\":\"#E5ECF6\",\"gridcolor\":\"white\",\"gridwidth\":2,\"linecolor\":\"white\",\"showbackground\":true,\"ticks\":\"\",\"zerolinecolor\":\"white\"},\"zaxis\":{\"backgroundcolor\":\"#E5ECF6\",\"gridcolor\":\"white\",\"gridwidth\":2,\"linecolor\":\"white\",\"showbackground\":true,\"ticks\":\"\",\"zerolinecolor\":\"white\"}},\"shapedefaults\":{\"line\":{\"color\":\"#2a3f5f\"}},\"ternary\":{\"aaxis\":{\"gridcolor\":\"white\",\"linecolor\":\"white\",\"ticks\":\"\"},\"baxis\":{\"gridcolor\":\"white\",\"linecolor\":\"white\",\"ticks\":\"\"},\"bgcolor\":\"#E5ECF6\",\"caxis\":{\"gridcolor\":\"white\",\"linecolor\":\"white\",\"ticks\":\"\"}},\"title\":{\"x\":0.05},\"xaxis\":{\"automargin\":true,\"gridcolor\":\"white\",\"linecolor\":\"white\",\"ticks\":\"\",\"title\":{\"standoff\":15},\"zerolinecolor\":\"white\",\"zerolinewidth\":2},\"yaxis\":{\"automargin\":true,\"gridcolor\":\"white\",\"linecolor\":\"white\",\"ticks\":\"\",\"title\":{\"standoff\":15},\"zerolinecolor\":\"white\",\"zerolinewidth\":2}}},\"xaxis\":{\"anchor\":\"y\",\"domain\":[0.0,1.0],\"title\":{\"text\":\"Date/Time\"}},\"yaxis\":{\"anchor\":\"x\",\"domain\":[0.0,1.0],\"title\":{\"text\":\"Voltage [V]\"}},\"legend\":{\"tracegroupgap\":0},\"margin\":{\"t\":60}},                        {\"responsive\": true}                    ).then(function(){\n",
              "                            \n",
              "var gd = document.getElementById('f9d20a3b-e357-4a87-8aae-68bf56381304');\n",
              "var x = new MutationObserver(function (mutations, observer) {{\n",
              "        var display = window.getComputedStyle(gd).display;\n",
              "        if (!display || display === 'none') {{\n",
              "            console.log([gd, 'removed!']);\n",
              "            Plotly.purge(gd);\n",
              "            observer.disconnect();\n",
              "        }}\n",
              "}});\n",
              "\n",
              "// Listen for the removal of the full notebook cells\n",
              "var notebookContainer = gd.closest('#notebook-container');\n",
              "if (notebookContainer) {{\n",
              "    x.observe(notebookContainer, {childList: true});\n",
              "}}\n",
              "\n",
              "// Listen for the clearing of the current output cell\n",
              "var outputEl = gd.closest('.output');\n",
              "if (outputEl) {{\n",
              "    x.observe(outputEl, {childList: true});\n",
              "}}\n",
              "\n",
              "                        })                };                            </script>        </div>\n",
              "</body>\n",
              "</html>"
            ]
          },
          "metadata": {}
        }
      ]
    },
    {
      "cell_type": "code",
      "source": [
        "import plotly.express as px\n",
        "\n",
        "figure = px.line(x=dates, y=capacity)\n",
        "figure.update_layout({\n",
        "    \"xaxis_title\": \"Date/Time\",\n",
        "    \"yaxis_title\": \"Capacity [%]\"\n",
        "    })\n",
        "figure.show()"
      ],
      "metadata": {
        "id": "N9BntNOjRi_9"
      },
      "execution_count": null,
      "outputs": []
    }
  ]
}