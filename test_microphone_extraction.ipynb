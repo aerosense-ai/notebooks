{
  "nbformat": 4,
  "nbformat_minor": 0,
  "metadata": {
    "colab": {
      "provenance": [],
      "include_colab_link": true
    },
    "kernelspec": {
      "name": "python3",
      "display_name": "Python 3"
    },
    "language_info": {
      "name": "python"
    }
  },
  "cells": [
    {
      "cell_type": "markdown",
      "metadata": {
        "id": "view-in-github",
        "colab_type": "text"
      },
      "source": [
        "<a href=\"https://colab.research.google.com/github/aerosense-ai/notebooks/blob/main/test_microphone_extraction.ipynb\" target=\"_parent\"><img src=\"https://colab.research.google.com/assets/colab-badge.svg\" alt=\"Open In Colab\"/></a>"
      ]
    },
    {
      "cell_type": "code",
      "execution_count": 1,
      "metadata": {
        "id": "esw1uoi7-_pj",
        "pycharm": {
          "name": "#%%\n"
        },
        "outputId": "e225d0a4-a218-4ee1-b253-d79e3e095628",
        "colab": {
          "base_uri": "https://localhost:8080/"
        }
      },
      "outputs": [
        {
          "output_type": "stream",
          "name": "stdout",
          "text": [
            "Python 3.10.11\n"
          ]
        }
      ],
      "source": [
        "!python --version"
      ]
    },
    {
      "cell_type": "code",
      "source": [
        "# Avoids scroll-in-the-scroll in the entire Notebook\n",
        "from IPython.display import Javascript\n",
        "def resize_colab_cell():\n",
        "  display(Javascript('google.colab.output.setIframeHeight(0, true, {maxHeight: 5000})'))\n",
        "get_ipython().events.register('pre_run_cell', resize_colab_cell)"
      ],
      "metadata": {
        "id": "WY5XY7wvXl2Z"
      },
      "execution_count": 2,
      "outputs": []
    },
    {
      "cell_type": "markdown",
      "source": [
        "# Dependences and new code"
      ],
      "metadata": {
        "id": "4hiQ2X9lezw2",
        "pycharm": {
          "name": "#%% md\n"
        }
      }
    },
    {
      "cell_type": "code",
      "source": [
        "from google.colab import auth\n",
        "auth.authenticate_user()"
      ],
      "metadata": {
        "id": "aINpS33A_Sr6",
        "pycharm": {
          "name": "#%%\n"
        },
        "colab": {
          "base_uri": "https://localhost:8080/",
          "height": 17
        },
        "outputId": "f1b03f0c-3298-4682-a02a-9cc318da7f21"
      },
      "execution_count": 3,
      "outputs": [
        {
          "output_type": "display_data",
          "data": {
            "text/plain": [
              "<IPython.core.display.Javascript object>"
            ],
            "application/javascript": [
              "google.colab.output.setIframeHeight(0, true, {maxHeight: 5000})"
            ]
          },
          "metadata": {}
        }
      ]
    },
    {
      "cell_type": "code",
      "source": [
        "!pip install --upgrade git+https://github.com/aerosense-ai/aerosense-tools.git@feature/add-microphone-data-download-function"
      ],
      "metadata": {
        "id": "afh13Jup_OE0",
        "pycharm": {
          "name": "#%%\n"
        },
        "colab": {
          "base_uri": "https://localhost:8080/",
          "height": 2034
        },
        "outputId": "6d0295a3-4c78-4603-cc5d-f6f87a555089"
      },
      "execution_count": 4,
      "outputs": [
        {
          "output_type": "display_data",
          "data": {
            "text/plain": [
              "<IPython.core.display.Javascript object>"
            ],
            "application/javascript": [
              "google.colab.output.setIframeHeight(0, true, {maxHeight: 5000})"
            ]
          },
          "metadata": {}
        },
        {
          "output_type": "stream",
          "name": "stdout",
          "text": [
            "Looking in indexes: https://pypi.org/simple, https://us-python.pkg.dev/colab-wheels/public/simple/\n",
            "Collecting git+https://github.com/aerosense-ai/aerosense-tools.git@feature/add-microphone-data-download-function\n",
            "  Cloning https://github.com/aerosense-ai/aerosense-tools.git (to revision feature/add-microphone-data-download-function) to /tmp/pip-req-build-oqeu9ial\n",
            "  Running command git clone --filter=blob:none --quiet https://github.com/aerosense-ai/aerosense-tools.git /tmp/pip-req-build-oqeu9ial\n",
            "  Running command git checkout -b feature/add-microphone-data-download-function --track origin/feature/add-microphone-data-download-function\n",
            "  Switched to a new branch 'feature/add-microphone-data-download-function'\n",
            "  Branch 'feature/add-microphone-data-download-function' set up to track remote branch 'feature/add-microphone-data-download-function' from 'origin'.\n",
            "  Resolved https://github.com/aerosense-ai/aerosense-tools.git to commit 1e170cc1cfe541e301c5d8c300439a602acb1821\n",
            "  Installing build dependencies ... \u001b[?25l\u001b[?25hdone\n",
            "  Getting requirements to build wheel ... \u001b[?25l\u001b[?25hdone\n",
            "  Preparing metadata (pyproject.toml) ... \u001b[?25l\u001b[?25hdone\n",
            "Requirement already satisfied: google-cloud-bigquery[bqstorage,pandas]<4.0.0,>=3.0.1 in /usr/local/lib/python3.10/dist-packages (from aerosense-tools==0.7.0) (3.9.0)\n",
            "Collecting octue<0.47.0,>=0.46.1 (from aerosense-tools==0.7.0)\n",
            "  Downloading octue-0.46.1-py3-none-any.whl (163 kB)\n",
            "\u001b[2K     \u001b[90m━━━━━━━━━━━━━━━━━━━━━━━━━━━━━━━━━━━━━━━\u001b[0m \u001b[32m163.0/163.0 kB\u001b[0m \u001b[31m5.2 MB/s\u001b[0m eta \u001b[36m0:00:00\u001b[0m\n",
            "\u001b[?25hRequirement already satisfied: plotly<6.0.0,>=5.10.0 in /usr/local/lib/python3.10/dist-packages (from aerosense-tools==0.7.0) (5.13.1)\n",
            "Requirement already satisfied: grpcio<2.0dev,>=1.47.0 in /usr/local/lib/python3.10/dist-packages (from google-cloud-bigquery[bqstorage,pandas]<4.0.0,>=3.0.1->aerosense-tools==0.7.0) (1.54.0)\n",
            "Requirement already satisfied: google-api-core[grpc]!=2.0.*,!=2.1.*,!=2.2.*,!=2.3.0,<3.0.0dev,>=1.31.5 in /usr/local/lib/python3.10/dist-packages (from google-cloud-bigquery[bqstorage,pandas]<4.0.0,>=3.0.1->aerosense-tools==0.7.0) (2.11.0)\n",
            "Requirement already satisfied: proto-plus<2.0.0dev,>=1.15.0 in /usr/local/lib/python3.10/dist-packages (from google-cloud-bigquery[bqstorage,pandas]<4.0.0,>=3.0.1->aerosense-tools==0.7.0) (1.22.2)\n",
            "Requirement already satisfied: google-cloud-core<3.0.0dev,>=1.6.0 in /usr/local/lib/python3.10/dist-packages (from google-cloud-bigquery[bqstorage,pandas]<4.0.0,>=3.0.1->aerosense-tools==0.7.0) (2.3.2)\n",
            "Requirement already satisfied: google-resumable-media<3.0dev,>=0.6.0 in /usr/local/lib/python3.10/dist-packages (from google-cloud-bigquery[bqstorage,pandas]<4.0.0,>=3.0.1->aerosense-tools==0.7.0) (2.5.0)\n",
            "Requirement already satisfied: packaging>=20.0.0 in /usr/local/lib/python3.10/dist-packages (from google-cloud-bigquery[bqstorage,pandas]<4.0.0,>=3.0.1->aerosense-tools==0.7.0) (23.1)\n",
            "Requirement already satisfied: protobuf!=3.20.0,!=3.20.1,!=4.21.0,!=4.21.1,!=4.21.2,!=4.21.3,!=4.21.4,!=4.21.5,<5.0.0dev,>=3.19.5 in /usr/local/lib/python3.10/dist-packages (from google-cloud-bigquery[bqstorage,pandas]<4.0.0,>=3.0.1->aerosense-tools==0.7.0) (3.20.3)\n",
            "Requirement already satisfied: python-dateutil<3.0dev,>=2.7.2 in /usr/local/lib/python3.10/dist-packages (from google-cloud-bigquery[bqstorage,pandas]<4.0.0,>=3.0.1->aerosense-tools==0.7.0) (2.8.2)\n",
            "Requirement already satisfied: requests<3.0.0dev,>=2.21.0 in /usr/local/lib/python3.10/dist-packages (from google-cloud-bigquery[bqstorage,pandas]<4.0.0,>=3.0.1->aerosense-tools==0.7.0) (2.27.1)\n",
            "Requirement already satisfied: pandas>=1.1.0 in /usr/local/lib/python3.10/dist-packages (from google-cloud-bigquery[bqstorage,pandas]<4.0.0,>=3.0.1->aerosense-tools==0.7.0) (1.5.3)\n",
            "Requirement already satisfied: pyarrow>=3.0.0 in /usr/local/lib/python3.10/dist-packages (from google-cloud-bigquery[bqstorage,pandas]<4.0.0,>=3.0.1->aerosense-tools==0.7.0) (9.0.0)\n",
            "Requirement already satisfied: db-dtypes<2.0.0dev,>=0.3.0 in /usr/local/lib/python3.10/dist-packages (from google-cloud-bigquery[bqstorage,pandas]<4.0.0,>=3.0.1->aerosense-tools==0.7.0) (1.1.1)\n",
            "Requirement already satisfied: google-cloud-bigquery-storage<3.0.0dev,>=2.0.0 in /usr/local/lib/python3.10/dist-packages (from google-cloud-bigquery[bqstorage,pandas]<4.0.0,>=3.0.1->aerosense-tools==0.7.0) (2.19.1)\n",
            "Collecting Flask<3,>=2.2.5 (from octue<0.47.0,>=0.46.1->aerosense-tools==0.7.0)\n",
            "  Downloading Flask-2.3.2-py3-none-any.whl (96 kB)\n",
            "\u001b[2K     \u001b[90m━━━━━━━━━━━━━━━━━━━━━━━━━━━━━━━━━━━━━━━━\u001b[0m \u001b[32m96.9/96.9 kB\u001b[0m \u001b[31m10.4 MB/s\u001b[0m eta \u001b[36m0:00:00\u001b[0m\n",
            "\u001b[?25hRequirement already satisfied: click<9,>=7 in /usr/local/lib/python3.10/dist-packages (from octue<0.47.0,>=0.46.1->aerosense-tools==0.7.0) (8.1.3)\n",
            "Collecting coolname<2.0,>=1.1 (from octue<0.47.0,>=0.46.1->aerosense-tools==0.7.0)\n",
            "  Downloading coolname-1.1.0-py2.py3-none-any.whl (35 kB)\n",
            "Requirement already satisfied: google-auth<3,>=1.27.0 in /usr/local/lib/python3.10/dist-packages (from octue<0.47.0,>=0.46.1->aerosense-tools==0.7.0) (2.17.3)\n",
            "Collecting google-cloud-pubsub<3.0,>=2.5 (from octue<0.47.0,>=0.46.1->aerosense-tools==0.7.0)\n",
            "  Downloading google_cloud_pubsub-2.17.0-py2.py3-none-any.whl (265 kB)\n",
            "\u001b[2K     \u001b[90m━━━━━━━━━━━━━━━━━━━━━━━━━━━━━━━━━━━━━━\u001b[0m \u001b[32m265.1/265.1 kB\u001b[0m \u001b[31m17.7 MB/s\u001b[0m eta \u001b[36m0:00:00\u001b[0m\n",
            "\u001b[?25hCollecting google-cloud-secret-manager<3.0,>=2.3 (from octue<0.47.0,>=0.46.1->aerosense-tools==0.7.0)\n",
            "  Downloading google_cloud_secret_manager-2.16.1-py2.py3-none-any.whl (116 kB)\n",
            "\u001b[2K     \u001b[90m━━━━━━━━━━━━━━━━━━━━━━━━━━━━━━━━━━━━━━\u001b[0m \u001b[32m116.7/116.7 kB\u001b[0m \u001b[31m13.3 MB/s\u001b[0m eta \u001b[36m0:00:00\u001b[0m\n",
            "\u001b[?25hRequirement already satisfied: google-cloud-storage<3,>=1.35.1 in /usr/local/lib/python3.10/dist-packages (from octue<0.47.0,>=0.46.1->aerosense-tools==0.7.0) (2.8.0)\n",
            "Requirement already satisfied: google-crc32c<2.0,>=1.1 in /usr/local/lib/python3.10/dist-packages (from octue<0.47.0,>=0.46.1->aerosense-tools==0.7.0) (1.5.0)\n",
            "Collecting gunicorn<21.0,>=20.1 (from octue<0.47.0,>=0.46.1->aerosense-tools==0.7.0)\n",
            "  Downloading gunicorn-20.1.0-py3-none-any.whl (79 kB)\n",
            "\u001b[2K     \u001b[90m━━━━━━━━━━━━━━━━━━━━━━━━━━━━━━━━━━━━━━━━\u001b[0m \u001b[32m79.5/79.5 kB\u001b[0m \u001b[31m9.6 MB/s\u001b[0m eta \u001b[36m0:00:00\u001b[0m\n",
            "\u001b[?25hCollecting packaging>=20.0.0 (from google-cloud-bigquery[bqstorage,pandas]<4.0.0,>=3.0.1->aerosense-tools==0.7.0)\n",
            "  Downloading packaging-21.3-py3-none-any.whl (40 kB)\n",
            "\u001b[2K     \u001b[90m━━━━━━━━━━━━━━━━━━━━━━━━━━━━━━━━━━━━━━━━\u001b[0m \u001b[32m40.8/40.8 kB\u001b[0m \u001b[31m3.9 MB/s\u001b[0m eta \u001b[36m0:00:00\u001b[0m\n",
            "\u001b[?25hRequirement already satisfied: pyyaml<7,>=6 in /usr/local/lib/python3.10/dist-packages (from octue<0.47.0,>=0.46.1->aerosense-tools==0.7.0) (6.0)\n",
            "Collecting twined<0.6.0,>=0.5.1 (from octue<0.47.0,>=0.46.1->aerosense-tools==0.7.0)\n",
            "  Downloading twined-0.5.2-py3-none-any.whl (359 kB)\n",
            "\u001b[2K     \u001b[90m━━━━━━━━━━━━━━━━━━━━━━━━━━━━━━━━━━━━━━\u001b[0m \u001b[32m359.9/359.9 kB\u001b[0m \u001b[31m35.8 MB/s\u001b[0m eta \u001b[36m0:00:00\u001b[0m\n",
            "\u001b[?25hRequirement already satisfied: tenacity>=6.2.0 in /usr/local/lib/python3.10/dist-packages (from plotly<6.0.0,>=5.10.0->aerosense-tools==0.7.0) (8.2.2)\n",
            "Requirement already satisfied: numpy>=1.16.6 in /usr/local/lib/python3.10/dist-packages (from db-dtypes<2.0.0dev,>=0.3.0->google-cloud-bigquery[bqstorage,pandas]<4.0.0,>=3.0.1->aerosense-tools==0.7.0) (1.22.4)\n",
            "Collecting Werkzeug>=2.3.3 (from Flask<3,>=2.2.5->octue<0.47.0,>=0.46.1->aerosense-tools==0.7.0)\n",
            "  Downloading Werkzeug-2.3.4-py3-none-any.whl (242 kB)\n",
            "\u001b[2K     \u001b[90m━━━━━━━━━━━━━━━━━━━━━━━━━━━━━━━━━━━━━━\u001b[0m \u001b[32m242.5/242.5 kB\u001b[0m \u001b[31m25.7 MB/s\u001b[0m eta \u001b[36m0:00:00\u001b[0m\n",
            "\u001b[?25hRequirement already satisfied: Jinja2>=3.1.2 in /usr/local/lib/python3.10/dist-packages (from Flask<3,>=2.2.5->octue<0.47.0,>=0.46.1->aerosense-tools==0.7.0) (3.1.2)\n",
            "Requirement already satisfied: itsdangerous>=2.1.2 in /usr/local/lib/python3.10/dist-packages (from Flask<3,>=2.2.5->octue<0.47.0,>=0.46.1->aerosense-tools==0.7.0) (2.1.2)\n",
            "Collecting blinker>=1.6.2 (from Flask<3,>=2.2.5->octue<0.47.0,>=0.46.1->aerosense-tools==0.7.0)\n",
            "  Downloading blinker-1.6.2-py3-none-any.whl (13 kB)\n",
            "Requirement already satisfied: googleapis-common-protos<2.0dev,>=1.56.2 in /usr/local/lib/python3.10/dist-packages (from google-api-core[grpc]!=2.0.*,!=2.1.*,!=2.2.*,!=2.3.0,<3.0.0dev,>=1.31.5->google-cloud-bigquery[bqstorage,pandas]<4.0.0,>=3.0.1->aerosense-tools==0.7.0) (1.59.0)\n",
            "Requirement already satisfied: grpcio-status<2.0dev,>=1.33.2 in /usr/local/lib/python3.10/dist-packages (from google-api-core[grpc]!=2.0.*,!=2.1.*,!=2.2.*,!=2.3.0,<3.0.0dev,>=1.31.5->google-cloud-bigquery[bqstorage,pandas]<4.0.0,>=3.0.1->aerosense-tools==0.7.0) (1.48.2)\n",
            "Requirement already satisfied: cachetools<6.0,>=2.0.0 in /usr/local/lib/python3.10/dist-packages (from google-auth<3,>=1.27.0->octue<0.47.0,>=0.46.1->aerosense-tools==0.7.0) (5.3.0)\n",
            "Requirement already satisfied: pyasn1-modules>=0.2.1 in /usr/local/lib/python3.10/dist-packages (from google-auth<3,>=1.27.0->octue<0.47.0,>=0.46.1->aerosense-tools==0.7.0) (0.3.0)\n",
            "Requirement already satisfied: six>=1.9.0 in /usr/local/lib/python3.10/dist-packages (from google-auth<3,>=1.27.0->octue<0.47.0,>=0.46.1->aerosense-tools==0.7.0) (1.16.0)\n",
            "Requirement already satisfied: rsa<5,>=3.1.4 in /usr/local/lib/python3.10/dist-packages (from google-auth<3,>=1.27.0->octue<0.47.0,>=0.46.1->aerosense-tools==0.7.0) (4.9)\n",
            "Collecting grpc-google-iam-v1<1.0.0dev,>=0.12.4 (from google-cloud-pubsub<3.0,>=2.5->octue<0.47.0,>=0.46.1->aerosense-tools==0.7.0)\n",
            "  Downloading grpc_google_iam_v1-0.12.6-py2.py3-none-any.whl (26 kB)\n",
            "Requirement already satisfied: setuptools>=3.0 in /usr/local/lib/python3.10/dist-packages (from gunicorn<21.0,>=20.1->octue<0.47.0,>=0.46.1->aerosense-tools==0.7.0) (67.7.2)\n",
            "Requirement already satisfied: pyparsing!=3.0.5,>=2.0.2 in /usr/local/lib/python3.10/dist-packages (from packaging>=20.0.0->google-cloud-bigquery[bqstorage,pandas]<4.0.0,>=3.0.1->aerosense-tools==0.7.0) (3.0.9)\n",
            "Requirement already satisfied: pytz>=2020.1 in /usr/local/lib/python3.10/dist-packages (from pandas>=1.1.0->google-cloud-bigquery[bqstorage,pandas]<4.0.0,>=3.0.1->aerosense-tools==0.7.0) (2022.7.1)\n",
            "Requirement already satisfied: urllib3<1.27,>=1.21.1 in /usr/local/lib/python3.10/dist-packages (from requests<3.0.0dev,>=2.21.0->google-cloud-bigquery[bqstorage,pandas]<4.0.0,>=3.0.1->aerosense-tools==0.7.0) (1.26.15)\n",
            "Requirement already satisfied: certifi>=2017.4.17 in /usr/local/lib/python3.10/dist-packages (from requests<3.0.0dev,>=2.21.0->google-cloud-bigquery[bqstorage,pandas]<4.0.0,>=3.0.1->aerosense-tools==0.7.0) (2022.12.7)\n",
            "Requirement already satisfied: charset-normalizer~=2.0.0 in /usr/local/lib/python3.10/dist-packages (from requests<3.0.0dev,>=2.21.0->google-cloud-bigquery[bqstorage,pandas]<4.0.0,>=3.0.1->aerosense-tools==0.7.0) (2.0.12)\n",
            "Requirement already satisfied: idna<4,>=2.5 in /usr/local/lib/python3.10/dist-packages (from requests<3.0.0dev,>=2.21.0->google-cloud-bigquery[bqstorage,pandas]<4.0.0,>=3.0.1->aerosense-tools==0.7.0) (3.4)\n",
            "Collecting jsonschema~=4.4.0 (from twined<0.6.0,>=0.5.1->octue<0.47.0,>=0.46.1->aerosense-tools==0.7.0)\n",
            "  Downloading jsonschema-4.4.0-py3-none-any.whl (72 kB)\n",
            "\u001b[2K     \u001b[90m━━━━━━━━━━━━━━━━━━━━━━━━━━━━━━━━━━━━━━━━\u001b[0m \u001b[32m72.7/72.7 kB\u001b[0m \u001b[31m7.8 MB/s\u001b[0m eta \u001b[36m0:00:00\u001b[0m\n",
            "\u001b[?25hCollecting python-dotenv (from twined<0.6.0,>=0.5.1->octue<0.47.0,>=0.46.1->aerosense-tools==0.7.0)\n",
            "  Downloading python_dotenv-1.0.0-py3-none-any.whl (19 kB)\n",
            "Requirement already satisfied: MarkupSafe>=2.0 in /usr/local/lib/python3.10/dist-packages (from Jinja2>=3.1.2->Flask<3,>=2.2.5->octue<0.47.0,>=0.46.1->aerosense-tools==0.7.0) (2.1.2)\n",
            "Requirement already satisfied: attrs>=17.4.0 in /usr/local/lib/python3.10/dist-packages (from jsonschema~=4.4.0->twined<0.6.0,>=0.5.1->octue<0.47.0,>=0.46.1->aerosense-tools==0.7.0) (23.1.0)\n",
            "Requirement already satisfied: pyrsistent!=0.17.0,!=0.17.1,!=0.17.2,>=0.14.0 in /usr/local/lib/python3.10/dist-packages (from jsonschema~=4.4.0->twined<0.6.0,>=0.5.1->octue<0.47.0,>=0.46.1->aerosense-tools==0.7.0) (0.19.3)\n",
            "Requirement already satisfied: pyasn1<0.6.0,>=0.4.6 in /usr/local/lib/python3.10/dist-packages (from pyasn1-modules>=0.2.1->google-auth<3,>=1.27.0->octue<0.47.0,>=0.46.1->aerosense-tools==0.7.0) (0.5.0)\n",
            "Building wheels for collected packages: aerosense-tools\n",
            "  Building wheel for aerosense-tools (pyproject.toml) ... \u001b[?25l\u001b[?25hdone\n",
            "  Created wheel for aerosense-tools: filename=aerosense_tools-0.7.0-py3-none-any.whl size=10518 sha256=59c98194de0c699883e1b4071b0c64084b18a4091956e73db160357fac9ef8f2\n",
            "  Stored in directory: /tmp/pip-ephem-wheel-cache-74dvbbt_/wheels/06/6b/e3/97b34bd0f8e999dac8bd0c0106b8b32d0c397fe3753b989794\n",
            "Successfully built aerosense-tools\n",
            "Installing collected packages: coolname, Werkzeug, python-dotenv, packaging, jsonschema, gunicorn, blinker, twined, Flask, grpc-google-iam-v1, google-cloud-secret-manager, google-cloud-pubsub, octue, aerosense-tools\n",
            "  Attempting uninstall: Werkzeug\n",
            "    Found existing installation: Werkzeug 2.3.0\n",
            "    Uninstalling Werkzeug-2.3.0:\n",
            "      Successfully uninstalled Werkzeug-2.3.0\n",
            "  Attempting uninstall: packaging\n",
            "    Found existing installation: packaging 23.1\n",
            "    Uninstalling packaging-23.1:\n",
            "      Successfully uninstalled packaging-23.1\n",
            "  Attempting uninstall: jsonschema\n",
            "    Found existing installation: jsonschema 4.3.3\n",
            "    Uninstalling jsonschema-4.3.3:\n",
            "      Successfully uninstalled jsonschema-4.3.3\n",
            "  Attempting uninstall: Flask\n",
            "    Found existing installation: Flask 2.2.4\n",
            "    Uninstalling Flask-2.2.4:\n",
            "      Successfully uninstalled Flask-2.2.4\n",
            "Successfully installed Flask-2.3.2 Werkzeug-2.3.4 aerosense-tools-0.7.0 blinker-1.6.2 coolname-1.1.0 google-cloud-pubsub-2.17.0 google-cloud-secret-manager-2.16.1 grpc-google-iam-v1-0.12.6 gunicorn-20.1.0 jsonschema-4.4.0 octue-0.46.1 packaging-21.3 python-dotenv-1.0.0 twined-0.5.2\n"
          ]
        },
        {
          "output_type": "display_data",
          "data": {
            "application/vnd.colab-display-data+json": {
              "pip_warning": {
                "packages": [
                  "google",
                  "packaging"
                ]
              }
            }
          },
          "metadata": {}
        }
      ]
    },
    {
      "cell_type": "code",
      "source": [
        "import datetime as dt\n",
        "\n",
        "from aerosense_tools.queries import BigQuery\n",
        "from aerosense_tools import plots\n",
        "from aerosense_tools.preprocess import RawSignal\n",
        "from aerosense_tools.preprocess import SensorMeasurementSession\n",
        "#from aerosense_tools.postprocess import PostProcess as pp\n",
        "\n",
        "client = BigQuery()"
      ],
      "metadata": {
        "id": "gfeUXmuF_cO5",
        "pycharm": {
          "name": "#%%\n"
        },
        "colab": {
          "base_uri": "https://localhost:8080/",
          "height": 17
        },
        "outputId": "0d25dba2-5238-4540-bc3d-7d1be3ed754b"
      },
      "execution_count": 7,
      "outputs": [
        {
          "output_type": "display_data",
          "data": {
            "text/plain": [
              "<IPython.core.display.Javascript object>"
            ],
            "application/javascript": [
              "google.colab.output.setIframeHeight(0, true, {maxHeight: 5000})"
            ]
          },
          "metadata": {}
        }
      ]
    },
    {
      "cell_type": "code",
      "source": [
        "sensor_types_metadata = client.get_sensor_types()"
      ],
      "metadata": {
        "id": "UZ_j-K_2EPaK",
        "colab": {
          "base_uri": "https://localhost:8080/",
          "height": 17
        },
        "outputId": "6e8c379b-2587-42bb-887e-6be2dc688560"
      },
      "execution_count": 15,
      "outputs": [
        {
          "output_type": "display_data",
          "data": {
            "text/plain": [
              "<IPython.core.display.Javascript object>"
            ],
            "application/javascript": [
              "google.colab.output.setIframeHeight(0, true, {maxHeight: 5000})"
            ]
          },
          "metadata": {}
        }
      ]
    },
    {
      "cell_type": "markdown",
      "source": [
        "# Test microphone data import"
      ],
      "metadata": {
        "id": "AWufzXVdeG9Y",
        "pycharm": {
          "name": "#%% md\n"
        }
      }
    },
    {
      "cell_type": "code",
      "source": [
        "print(\"Available sensor types are: {}\".format(sensor_types_metadata.keys()))\n",
        "print(\"Available installations are: {}\".format(client.get_installations()))"
      ],
      "metadata": {
        "id": "Tz6YwfKaMee_",
        "outputId": "f92b8c34-9405-4d18-8a1d-37d8ddda75e7",
        "colab": {
          "base_uri": "https://localhost:8080/",
          "height": 72
        }
      },
      "execution_count": 19,
      "outputs": [
        {
          "output_type": "display_data",
          "data": {
            "text/plain": [
              "<IPython.core.display.Javascript object>"
            ],
            "application/javascript": [
              "google.colab.output.setIframeHeight(0, true, {maxHeight: 5000})"
            ]
          },
          "metadata": {}
        },
        {
          "output_type": "stream",
          "name": "stdout",
          "text": [
            "Available sensor types are: dict_keys(['accelerometer', 'barometer', 'barometer_thermometer', 'battery_info', 'connection_statistics', 'differential_barometer', 'gyroscope', 'magnetometer', 'microphone'])\n",
            "Available installations are: [{'label': 'aventa-turbine-test (Turbine 0)', 'value': 'aventa-turbine-test'}, {'label': 'aventa-turbine-test-installation-20221202 (Turbine ost-aventa-turbine)', 'value': 'aventa-turbine-test-installation-20221202'}, {'label': 'my-next-test-installation (Turbine 0)', 'value': 'my-next-test-installation'}, {'label': 'ost-tests-may-2023 (Turbine null)', 'value': 'ost-tests-may-2023'}, {'label': 'ost-wt-evaluation (Turbine 0)', 'value': 'ost-wt-evaluation'}, {'label': 'ost-wt-tests (Turbine 0)', 'value': 'ost-wt-tests'}, {'label': 'pbl-test (Turbine unknown)', 'value': 'pbl-test'}, {'label': 'predep-test-20221130 (Turbine unknown)', 'value': 'predep-test-20221130'}, {'label': 'test-installation (Turbine 0)', 'value': 'test-installation'}]\n"
          ]
        }
      ]
    },
    {
      "cell_type": "code",
      "source": [
        "measuremnt_sessions={}\n",
        "raw_signals={}\n",
        "measuremnt_session_info={}"
      ],
      "metadata": {
        "id": "8txcvYWXwueU",
        "colab": {
          "base_uri": "https://localhost:8080/",
          "height": 17
        },
        "outputId": "df89c6eb-5357-4976-c5a6-c89b8b19e432"
      },
      "execution_count": 20,
      "outputs": [
        {
          "output_type": "display_data",
          "data": {
            "text/plain": [
              "<IPython.core.display.Javascript object>"
            ],
            "application/javascript": [
              "google.colab.output.setIframeHeight(0, true, {maxHeight: 5000})"
            ]
          },
          "metadata": {}
        }
      ]
    },
    {
      "cell_type": "code",
      "source": [
        "sensor_type=\"microphone\""
      ],
      "metadata": {
        "id": "7iAh9iZsCvKM",
        "colab": {
          "base_uri": "https://localhost:8080/",
          "height": 17
        },
        "outputId": "a0d6b1e4-4dfb-4f07-f762-54375709227d"
      },
      "execution_count": 21,
      "outputs": [
        {
          "output_type": "display_data",
          "data": {
            "text/plain": [
              "<IPython.core.display.Javascript object>"
            ],
            "application/javascript": [
              "google.colab.output.setIframeHeight(0, true, {maxHeight: 5000})"
            ]
          },
          "metadata": {}
        }
      ]
    },
    {
      "cell_type": "markdown",
      "source": [
        "Get data from Big Query:"
      ],
      "metadata": {
        "id": "ewZ89ep4t61n"
      }
    },
    {
      "cell_type": "code",
      "source": [
        "node=\"2\"\n",
        "installation = \"aventa-turbine-test\"\n",
        "start_time = dt.datetime(2022, 7, 21,13,01)\n",
        "end_time = dt.datetime(2022, 7, 21,13,05)\n",
        "\n",
        "df = client.get_microphone_metadata(\n",
        "    installation_reference=installation,\n",
        "    node_id=node,\n",
        "    start=start_time,\n",
        "    finish=end_time,\n",
        "     )\n",
        "df.head()"
      ],
      "metadata": {
        "id": "DF-vE7HyG7u0",
        "pycharm": {
          "name": "#%%\n"
        },
        "colab": {
          "base_uri": "https://localhost:8080/",
          "height": 300
        },
        "outputId": "bfd77160-ed1f-4598-b840-77bcf8afcbec"
      },
      "execution_count": 33,
      "outputs": [
        {
          "output_type": "display_data",
          "data": {
            "text/plain": [
              "<IPython.core.display.Javascript object>"
            ],
            "application/javascript": [
              "google.colab.output.setIframeHeight(0, true, {maxHeight: 5000})"
            ]
          },
          "metadata": {}
        },
        {
          "output_type": "execute_result",
          "data": {
            "text/plain": [
              "                                                path  \\\n",
              "0  gs://data-gateway-processed-data/microphone/da...   \n",
              "1  gs://data-gateway-processed-data/microphone/da...   \n",
              "2  gs://data-gateway-processed-data/microphone/da...   \n",
              "3  gs://data-gateway-processed-data/microphone/da...   \n",
              "4  gs://data-gateway-processed-data/microphone/da...   \n",
              "\n",
              "                       configuration_id installation_reference node_id  \\\n",
              "0  4cbd8e0f-6291-485e-8786-83d60493e63c    aventa-turbine-test       2   \n",
              "1  4cbd8e0f-6291-485e-8786-83d60493e63c    aventa-turbine-test       2   \n",
              "2  4cbd8e0f-6291-485e-8786-83d60493e63c    aventa-turbine-test       2   \n",
              "3  4cbd8e0f-6291-485e-8786-83d60493e63c    aventa-turbine-test       2   \n",
              "4  4cbd8e0f-6291-485e-8786-83d60493e63c    aventa-turbine-test       2   \n",
              "\n",
              "                    datetime measurement_campaign_reference  \n",
              "0 2022-07-21 11:02:07.452608                           None  \n",
              "1 2022-07-21 12:02:20.680707                           None  \n",
              "2 2022-07-21 13:01:57.113424                           None  \n",
              "3 2022-07-21 11:02:32.539668                           None  \n",
              "4 2022-07-21 11:01:43.874004                           None  "
            ],
            "text/html": [
              "\n",
              "  <div id=\"df-93892503-2b23-43fd-8245-b658919d5a76\">\n",
              "    <div class=\"colab-df-container\">\n",
              "      <div>\n",
              "<style scoped>\n",
              "    .dataframe tbody tr th:only-of-type {\n",
              "        vertical-align: middle;\n",
              "    }\n",
              "\n",
              "    .dataframe tbody tr th {\n",
              "        vertical-align: top;\n",
              "    }\n",
              "\n",
              "    .dataframe thead th {\n",
              "        text-align: right;\n",
              "    }\n",
              "</style>\n",
              "<table border=\"1\" class=\"dataframe\">\n",
              "  <thead>\n",
              "    <tr style=\"text-align: right;\">\n",
              "      <th></th>\n",
              "      <th>path</th>\n",
              "      <th>configuration_id</th>\n",
              "      <th>installation_reference</th>\n",
              "      <th>node_id</th>\n",
              "      <th>datetime</th>\n",
              "      <th>measurement_campaign_reference</th>\n",
              "    </tr>\n",
              "  </thead>\n",
              "  <tbody>\n",
              "    <tr>\n",
              "      <th>0</th>\n",
              "      <td>gs://data-gateway-processed-data/microphone/da...</td>\n",
              "      <td>4cbd8e0f-6291-485e-8786-83d60493e63c</td>\n",
              "      <td>aventa-turbine-test</td>\n",
              "      <td>2</td>\n",
              "      <td>2022-07-21 11:02:07.452608</td>\n",
              "      <td>None</td>\n",
              "    </tr>\n",
              "    <tr>\n",
              "      <th>1</th>\n",
              "      <td>gs://data-gateway-processed-data/microphone/da...</td>\n",
              "      <td>4cbd8e0f-6291-485e-8786-83d60493e63c</td>\n",
              "      <td>aventa-turbine-test</td>\n",
              "      <td>2</td>\n",
              "      <td>2022-07-21 12:02:20.680707</td>\n",
              "      <td>None</td>\n",
              "    </tr>\n",
              "    <tr>\n",
              "      <th>2</th>\n",
              "      <td>gs://data-gateway-processed-data/microphone/da...</td>\n",
              "      <td>4cbd8e0f-6291-485e-8786-83d60493e63c</td>\n",
              "      <td>aventa-turbine-test</td>\n",
              "      <td>2</td>\n",
              "      <td>2022-07-21 13:01:57.113424</td>\n",
              "      <td>None</td>\n",
              "    </tr>\n",
              "    <tr>\n",
              "      <th>3</th>\n",
              "      <td>gs://data-gateway-processed-data/microphone/da...</td>\n",
              "      <td>4cbd8e0f-6291-485e-8786-83d60493e63c</td>\n",
              "      <td>aventa-turbine-test</td>\n",
              "      <td>2</td>\n",
              "      <td>2022-07-21 11:02:32.539668</td>\n",
              "      <td>None</td>\n",
              "    </tr>\n",
              "    <tr>\n",
              "      <th>4</th>\n",
              "      <td>gs://data-gateway-processed-data/microphone/da...</td>\n",
              "      <td>4cbd8e0f-6291-485e-8786-83d60493e63c</td>\n",
              "      <td>aventa-turbine-test</td>\n",
              "      <td>2</td>\n",
              "      <td>2022-07-21 11:01:43.874004</td>\n",
              "      <td>None</td>\n",
              "    </tr>\n",
              "  </tbody>\n",
              "</table>\n",
              "</div>\n",
              "      <button class=\"colab-df-convert\" onclick=\"convertToInteractive('df-93892503-2b23-43fd-8245-b658919d5a76')\"\n",
              "              title=\"Convert this dataframe to an interactive table.\"\n",
              "              style=\"display:none;\">\n",
              "        \n",
              "  <svg xmlns=\"http://www.w3.org/2000/svg\" height=\"24px\"viewBox=\"0 0 24 24\"\n",
              "       width=\"24px\">\n",
              "    <path d=\"M0 0h24v24H0V0z\" fill=\"none\"/>\n",
              "    <path d=\"M18.56 5.44l.94 2.06.94-2.06 2.06-.94-2.06-.94-.94-2.06-.94 2.06-2.06.94zm-11 1L8.5 8.5l.94-2.06 2.06-.94-2.06-.94L8.5 2.5l-.94 2.06-2.06.94zm10 10l.94 2.06.94-2.06 2.06-.94-2.06-.94-.94-2.06-.94 2.06-2.06.94z\"/><path d=\"M17.41 7.96l-1.37-1.37c-.4-.4-.92-.59-1.43-.59-.52 0-1.04.2-1.43.59L10.3 9.45l-7.72 7.72c-.78.78-.78 2.05 0 2.83L4 21.41c.39.39.9.59 1.41.59.51 0 1.02-.2 1.41-.59l7.78-7.78 2.81-2.81c.8-.78.8-2.07 0-2.86zM5.41 20L4 18.59l7.72-7.72 1.47 1.35L5.41 20z\"/>\n",
              "  </svg>\n",
              "      </button>\n",
              "      \n",
              "  <style>\n",
              "    .colab-df-container {\n",
              "      display:flex;\n",
              "      flex-wrap:wrap;\n",
              "      gap: 12px;\n",
              "    }\n",
              "\n",
              "    .colab-df-convert {\n",
              "      background-color: #E8F0FE;\n",
              "      border: none;\n",
              "      border-radius: 50%;\n",
              "      cursor: pointer;\n",
              "      display: none;\n",
              "      fill: #1967D2;\n",
              "      height: 32px;\n",
              "      padding: 0 0 0 0;\n",
              "      width: 32px;\n",
              "    }\n",
              "\n",
              "    .colab-df-convert:hover {\n",
              "      background-color: #E2EBFA;\n",
              "      box-shadow: 0px 1px 2px rgba(60, 64, 67, 0.3), 0px 1px 3px 1px rgba(60, 64, 67, 0.15);\n",
              "      fill: #174EA6;\n",
              "    }\n",
              "\n",
              "    [theme=dark] .colab-df-convert {\n",
              "      background-color: #3B4455;\n",
              "      fill: #D2E3FC;\n",
              "    }\n",
              "\n",
              "    [theme=dark] .colab-df-convert:hover {\n",
              "      background-color: #434B5C;\n",
              "      box-shadow: 0px 1px 3px 1px rgba(0, 0, 0, 0.15);\n",
              "      filter: drop-shadow(0px 1px 2px rgba(0, 0, 0, 0.3));\n",
              "      fill: #FFFFFF;\n",
              "    }\n",
              "  </style>\n",
              "\n",
              "      <script>\n",
              "        const buttonEl =\n",
              "          document.querySelector('#df-93892503-2b23-43fd-8245-b658919d5a76 button.colab-df-convert');\n",
              "        buttonEl.style.display =\n",
              "          google.colab.kernel.accessAllowed ? 'block' : 'none';\n",
              "\n",
              "        async function convertToInteractive(key) {\n",
              "          const element = document.querySelector('#df-93892503-2b23-43fd-8245-b658919d5a76');\n",
              "          const dataTable =\n",
              "            await google.colab.kernel.invokeFunction('convertToInteractive',\n",
              "                                                     [key], {});\n",
              "          if (!dataTable) return;\n",
              "\n",
              "          const docLinkHtml = 'Like what you see? Visit the ' +\n",
              "            '<a target=\"_blank\" href=https://colab.research.google.com/notebooks/data_table.ipynb>data table notebook</a>'\n",
              "            + ' to learn more about interactive tables.';\n",
              "          element.innerHTML = '';\n",
              "          dataTable['output_type'] = 'display_data';\n",
              "          await google.colab.output.renderOutput(dataTable, element);\n",
              "          const docLink = document.createElement('div');\n",
              "          docLink.innerHTML = docLinkHtml;\n",
              "          element.appendChild(docLink);\n",
              "        }\n",
              "      </script>\n",
              "    </div>\n",
              "  </div>\n",
              "  "
            ]
          },
          "metadata": {},
          "execution_count": 33
        }
      ]
    },
    {
      "cell_type": "code",
      "source": [
        "download_time = dt.datetime(2022, 7, 21, 13, 1, 57)\n",
        "\n",
        "client.download_microphone_data_at_datetime(\n",
        "    installation_reference=installation, \n",
        "    node_id = node, \n",
        "    datetime = download_time    \n",
        ")"
      ],
      "metadata": {
        "colab": {
          "base_uri": "https://localhost:8080/",
          "height": 35
        },
        "id": "ZUMnAOYbUhPp",
        "outputId": "490b03a2-a9e3-4527-fa8e-0f4b677d79ec"
      },
      "execution_count": 37,
      "outputs": [
        {
          "output_type": "display_data",
          "data": {
            "text/plain": [
              "<IPython.core.display.Javascript object>"
            ],
            "application/javascript": [
              "google.colab.output.setIframeHeight(0, true, {maxHeight: 5000})"
            ]
          },
          "metadata": {}
        },
        {
          "output_type": "execute_result",
          "data": {
            "text/plain": [
              "'/content/microphone-data-2022-07-21T13:01:57.hdf5'"
            ],
            "application/vnd.google.colaboratory.intrinsic+json": {
              "type": "string"
            }
          },
          "metadata": {},
          "execution_count": 37
        }
      ]
    }
  ]
}