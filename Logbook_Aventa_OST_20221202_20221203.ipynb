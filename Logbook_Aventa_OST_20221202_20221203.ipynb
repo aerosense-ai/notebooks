{
  "cells": [
    {
      "cell_type": "markdown",
      "metadata": {
        "id": "view-in-github",
        "colab_type": "text"
      },
      "source": [
        "<a href=\"https://colab.research.google.com/github/aerosense-ai/notebooks/blob/main/Logbook_Aventa_OST_20221202_20221203.ipynb\" target=\"_parent\"><img src=\"https://colab.research.google.com/assets/colab-badge.svg\" alt=\"Open In Colab\"/></a>"
      ]
    },
    {
      "cell_type": "markdown",
      "metadata": {
        "id": "paWp91G3Cj1_"
      },
      "source": [
        "# Logbook\n",
        "Logbook for the Aerosense measurement campaign tests on the OST owned Aventa AV-7 windturbine (located in Winterthur (ZH)) conducted in December 2022.\n",
        "\n",
        "## 02 December - 03 December \n",
        "Main measuremnt campain period.\n",
        "\n",
        "`installation = \"predep-test-20221130\"`\n",
        "\n",
        "The logs and backup data are stored at: ~/data/gateway/20221202T144124/\n",
        "\n",
        "### Installation day timeline:\n",
        "|~Time|Activity|\n",
        "|---|---|\n",
        "|9:30|Laurin: started installing the ladder, Julien and Juri: setting up the gateway box|\n",
        "|10:00|Laurin: finished installing the ladder, checked Netico box on the nacelle|\n",
        "|10:15|Laurin: started taking off the old AeroSense node|\n",
        "|10:50|The old node is off, gateway box is ready but not closed/fixed yet|\n",
        "|10:50 - 11:00|Testing the node in the car|\n",
        "|11:30 - 11:40|Testing the node in the car|\n",
        "|11:10|Gregory: started cleaning and preparing blade surface for the new node installation|\n",
        "|11:50|Blade surface is ready|\n",
        "|12:00 - 12:20|Julien: Heating up system molding in the car|\n",
        "|12:20 - 13:00|Julien: Node installation|\n",
        "|13:00 - 13:15|Julien: Photogrammetry, radial position measurement|\n",
        "|13:20 - 15:00|Julien and Juri: testing installed system, closing/fixing gateway box. Gregory and Laurin: installing roughness on ETH turbine.|\n",
        "|14:00| Laurin: getting some snacks :)|\n",
        "|15:00 - 16:00|Clean-up, packing|\n",
        "|15:20 - 15:30|Blade pitch movemenent measurement|\n",
        "|16:00|Left the site|\n",
        "\n",
        "\n",
        "### Barometer sessions:\n",
        "\n",
        "Note: Time is in UTC!\n",
        "\n",
        "|index|start|end|duration|differential\\_barometer|accelerometer|gyroscope|Note|\n",
        "|---|---|---|---|---|---|---|---|\n",
        "|0|2022-12-02 09:53:33\\.663631|2022-12-02 10:01:33\\.741090|0 days 00:08:00\\.077459|false|true|true|System in the car: expected constant pressure.|\n",
        "|1|2022-12-02 10:31:35\\.007711|2022-12-02 10:39:35\\.095744|0 days 00:08:00\\.088033|false|true|true|System in the car: expected constant pressure.|\n",
        "|2|2022-12-02 11:21:39\\.549184|2022-12-02 11:21:49\\.459401|0 days 00:00:09\\.910217|false|false|false|System instalation: checking if the sensors are still functioning.|\n",
        "|3|2022-12-02 11:32:09\\.465880|2022-12-02 11:32:19\\.375731|0 days 00:00:09\\.909851|false|false|false|System instalation: checking if the sensors are still functioning.|\n",
        "|4|2022-12-02 11:38:59\\.887193|2022-12-02 11:39:31\\.252442|0 days 00:00:31\\.365249|true|false|false|System instalation: checking if the sensors are still functioning.|\n",
        "|5|2022-12-02 11:41:29\\.285887|2022-12-02 11:41:33\\.175810|0 days 00:00:03\\.889923|false|true|true|System instalation: checking if the sensors are still functioning.|\n",
        "|6|2022-12-02 11:46:48\\.388149|2022-12-02 11:47:08\\.365713|0 days 00:00:19\\.977564|false|true|true|System instalation: checking if the sensors are still functioning.|\n",
        "|7|2022-12-02 11:56:25\\.499044|2022-12-02 11:56:45\\.474241|0 days 00:00:19\\.975197|false|true|true|System instalation: checking if the sensors are still functioning.|\n",
        "|8|2022-12-02 12:08:22\\.618608|2022-12-02 12:16:22\\.698666|0 days 00:08:00\\.080058|false|true|true|System is installed,blade slightly pitched and nacelle yawed.|\n",
        "|9|2022-12-02 12:33:32\\.840333|2022-12-02 12:41:32\\.746229|0 days 00:07:59\\.905896|false|true|true|System is installed, no blade movement.|\n",
        "|10|2022-12-02 12:53:15\\.657502|2022-12-02 13:01:15\\.650920|0 days 00:07:59\\.993418|false|true|true|System is installed, no blade movement.|\n",
        "|11|2022-12-02 14:09:50\\.948549|2022-12-02 14:17:50\\.928174|0 days 00:07:59\\.979625|false|true|true|System is installed, no blade movement.|\n",
        "|12|2022-12-02 14:25:57\\.762371|2022-12-02 14:33:57\\.813816|0 days 00:08:00\\.051445|false|true|true|Blade is pitched and turbine is put in automode towards the end.|\n",
        "|13|2022-12-02 14:41:39\\.675360|2022-12-02 14:42:08\\.403445|0 days 00:00:28\\.728085|false|true|true|Wind turbine in operation, the data transmittion failed|\n",
        "|14|2022-12-02 15:11:39\\.683384|2022-12-02 15:19:39\\.758694|0 days 00:08:00\\.075310|false|true|true|Wind turbine is still|\n",
        "|15|2022-12-02 15:41:39\\.801353|2022-12-02 15:49:39\\.806978|0 days 00:08:00\\.005625|false|true|true|Wind turbine is still|\n",
        "|16|2022-12-02 16:11:39\\.818818|2022-12-02 16:11:48\\.247702|0 days 00:00:08\\.428884|false|true|true|Wind turbine is still|\n",
        "|17|2022-12-02 16:41:39\\.934881|2022-12-02 16:49:39\\.909447|0 days 00:07:59\\.974566|false|true|true|Wind turbine is still|\n",
        "|18|2022-12-02 17:11:40\\.045713|2022-12-02 17:19:40\\.047816|0 days 00:08:00\\.002103|false|true|true|Wind turbine is still|\n",
        "|19|2022-12-02 17:41:40\\.155745|2022-12-02 17:44:09\\.160847|0 days 00:02:29\\.005102|false|true|true|Wind turbine is still|\n",
        "|20|2022-12-02 18:11:40\\.170866|2022-12-02 18:19:40\\.246060|0 days 00:08:00\\.075194|false|true|true|Wind turbine is still|\n",
        "|21|2022-12-02 18:41:40\\.283832|2022-12-02 18:49:40\\.347417|0 days 00:08:00\\.063585|false|true|true|Wind turbine is still|\n",
        "|22|2022-12-02 19:11:40\\.396008|2022-12-02 19:19:40\\.395931|0 days 00:07:59\\.999923|false|true|true|Wind turbine is still|\n",
        "|23|2022-12-02 19:41:40\\.706974|2022-12-02 19:49:41\\.037824|0 days 00:08:00\\.330850|false|true|true|Wind turbine is operating|\n",
        "|24|2022-12-02 20:11:40\\.620222|2022-12-02 20:19:41\\.148536|0 days 00:08:00\\.528314|false|true|true|Wind turbine is operating|\n",
        "|25|2022-12-02 20:41:40\\.737368|2022-12-02 20:49:41\\.356338|0 days 00:08:00\\.618970|false|true|true|Wind turbine is operating|\n",
        "|26|2022-12-02 21:11:40\\.949848|2022-12-02 21:19:40\\.849795|0 days 00:07:59\\.899947|false|true|true|Wind turbine is operating|\n",
        "|27|2022-12-02 21:41:40\\.756255|2022-12-02 21:49:40\\.850762|0 days 00:08:00\\.094507|false|true|true|Wind turbine is operating|\n",
        "|28|2022-12-02 22:11:40\\.972521|2022-12-02 22:19:40\\.947554|0 days 00:07:59\\.975033|false|true|true|Wind turbine is operating|\n",
        "|29|2022-12-02 22:41:41\\.132717|2022-12-02 22:49:41\\.387412|0 days 00:08:00\\.254695|false|true|true|Wind turbine is operating|\n",
        "|30|2022-12-02 23:11:41\\.737144|2022-12-02 23:19:41\\.681855|0 days 00:07:59\\.944711|false|true|true|Wind turbine is operating|\n",
        "|31|2022-12-02 23:41:41\\.202798|2022-12-02 23:49:41\\.277347|0 days 00:08:00\\.074549|false|true|true|Wind turbine is operating|\n",
        "|32|2022-12-03 00:11:41\\.311248|2022-12-03 00:19:41\\.285664|0 days 00:07:59\\.974416|false|true|true|Wind turbine is operating|\n",
        "|33|2022-12-03 00:41:41\\.320320|2022-12-03 00:49:41\\.327470|0 days 00:08:00\\.007150|false|true|true|Wind turbine is operating|\n",
        "|34|2022-12-03 01:11:41\\.434957|2022-12-03 01:19:41\\.419427|0 days 00:07:59\\.984470|false|true|true|Wind turbine is operating|\n",
        "|35|2022-12-03 01:41:41\\.437800|2022-12-03 01:49:41\\.518244|0 days 00:08:00\\.080444|false|true|true|Wind turbine is operating|\n",
        "|36|2022-12-03 02:11:41\\.547253|2022-12-03 02:19:41\\.686799|0 days 00:08:00\\.139546|false|true|true|Wind turbine is operating|\n",
        "|37|2022-12-03 02:41:41\\.753423|2022-12-03 02:49:41\\.966566|0 days 00:08:00\\.213143|false|true|true|Wind turbine is operating|\n",
        "|38|2022-12-03 03:11:41\\.760818|2022-12-03 03:19:41\\.851203|0 days 00:08:00\\.090385|false|true|true|Wind turbine is operating|\n",
        "|39|2022-12-03 03:41:41\\.872786|2022-12-03 03:41:58\\.992630|0 days 00:00:17\\.119844|false|true|true|Wind turbine is operating|\n",
        "|40|2022-12-03 04:11:41\\.918237|2022-12-03 04:19:42\\.001654|0 days 00:08:00\\.083417|false|true|true|Wind turbine is operating|\n",
        "|41|2022-12-03 04:41:42\\.137681|2022-12-03 04:49:42\\.098844|0 days 00:07:59\\.961163|false|true|true|Wind turbine is operating|\n",
        "|42|2022-12-03 05:11:42\\.339359|2022-12-03 05:19:42\\.132891|0 days 00:07:59\\.793532|false|true|true|Wind turbine is operating|\n",
        "|43|2022-12-03 05:41:42\\.246416|2022-12-03 05:49:42\\.231242|0 days 00:07:59\\.984826|false|true|true|Wind turbine is operating|\n",
        "|44|2022-12-03 06:11:42\\.459408|2022-12-03 06:19:42\\.431782|0 days 00:07:59\\.972374|false|true|true|Wind turbine is operating|\n",
        "|45|2022-12-03 06:41:42\\.359910|2022-12-03 06:49:42\\.436890|0 days 00:08:00\\.076980|false|true|true|Wind turbine is mostly at 1Hz. IMU clipping|\n",
        "|46|2022-12-03 07:11:42\\.475048|2022-12-03 07:19:42\\.809558|0 days 00:08:00\\.334510|false|true|true|Wind turbine is operating|\n",
        "|47|2022-12-03 07:41:42\\.587895|2022-12-03 07:44:24\\.382298|0 days 00:02:41\\.794403|false|true|true|Wind turbine is operating|\n",
        "|48|2022-12-03 08:11:42\\.571710|2022-12-03 08:19:42\\.648421|0 days 00:08:00\\.076711|false|true|true|Wind turbine is reaching 1Hz at some times.|\n",
        "|49|2022-12-03 08:41:42\\.670573|2022-12-03 08:49:43\\.213806|0 days 00:08:00\\.543233|false|true|true|Wind turbine is reaching 1Hz at some times.|\n",
        "|50|2022-12-03 09:11:42\\.788645|2022-12-03 09:19:42\\.890937|0 days 00:08:00\\.102292|false|true|true|Wind turbine is reaching 1Hz at some times.|\n",
        "|51|2022-12-03 09:41:42\\.799751|2022-12-03 09:49:42\\.880619|0 days 00:08:00\\.080868|false|true|true|Wind turbine is reaching 1Hz at some times.|\n",
        "|52|2022-12-03 10:11:42\\.912493|2022-12-03 10:19:42\\.986641|0 days 00:08:00\\.074148|false|true|true|Wind turbine is reaching 1Hz at some times.|\n",
        "|53|2022-12-03 10:41:43\\.222865|2022-12-03 10:49:43\\.144174|0 days 00:07:59\\.921309|false|true|true|Wind turbine is reaching 1Hz at some times.|\n",
        "|54|2022-12-03 11:11:43\\.232131|2022-12-03 11:19:43\\.223933|0 days 00:07:59\\.991802|false|true|true|Wind turbine is reaching 1Hz at some times.|\n",
        "|55|2022-12-03 11:41:43\\.243636|2022-12-03 11:49:43\\.322550|0 days 00:08:00\\.078914|false|true|true|Wind turbine is reaching 1Hz at some times.|\n",
        "|56|2022-12-03 12:11:43\\.359806|2022-12-03 12:12:03\\.744165|0 days 00:00:20\\.384359|false|true|true|Wind turbine is reaching 1Hz at some times.|\n",
        "|57|2022-12-03 12:41:43\\.494058|2022-12-03 12:49:43\\.575050|0 days 00:08:00\\.080992|false|true|true|Wind turbine is reaching 1Hz at some times.|\n",
        "|58|2022-12-03 13:11:43\\.600666|2022-12-03 13:19:43\\.747603|0 days 00:08:00\\.146937|false|true|true|Wind turbine is reaching 1Hz at some times.|\n",
        "|59|2022-12-03 13:41:43\\.716312|2022-12-03 13:49:43\\.713521|0 days 00:07:59\\.997209|false|true|true|Wind turbine is reaching 1Hz at some times.|\n",
        "|60|2022-12-03 14:11:43\\.730871|2022-12-03 14:19:43\\.810498|0 days 00:08:00\\.079627|false|true|true|Wind turbine is reaching 1Hz at some times.|\n",
        "|61|2022-12-03 14:41:43\\.841952|2022-12-03 14:49:44\\.009260|0 days 00:08:00\\.167308|false|true|true|Wind turbine is reaching 1Hz at some times.|\n",
        "|62|2022-12-03 15:11:43\\.952971|2022-12-03 15:19:43\\.950106|0 days 00:07:59\\.997135|false|true|true|Wind turbine is operating|\n",
        "|63|2022-12-03 15:41:44\\.069388|2022-12-03 15:49:44\\.132145|0 days 00:08:00\\.062757|false|true|true|Wind turbine is operating|\n",
        "|64|2022-12-03 16:11:44\\.176029|2022-12-03 16:19:44\\.286170|0 days 00:08:00\\.110141|false|true|true|Wind turbine is operating|\n",
        "|65|2022-12-03 16:41:44\\.290127|2022-12-03 16:49:44\\.331583|0 days 00:08:00\\.041456|false|true|true|Wind turbine is operating|\n",
        "|66|2022-12-03 17:11:44\\.355788|2022-12-03 17:19:44\\.280145|0 days 00:07:59\\.924357|false|true|true|Wind turbine is reaching 1Hz at some times.|\n",
        "|67|2022-12-03 17:41:44\\.415553|2022-12-03 17:49:44\\.527935|0 days 00:08:00\\.112382|false|true|true|Wind turbine is reaching 1Hz at some times.|\n",
        "|68|2022-12-03 18:11:44\\.526820|2022-12-03 18:19:44\\.574781|0 days 00:08:00\\.047961|false|true|true|Wind turbine is operating|\n",
        "|69|2022-12-03 18:41:44\\.742369|2022-12-03 18:45:47\\.641129|0 days 00:04:02\\.898760|false|true|true|Wind turbine is operating|\n",
        "|70|2022-12-03 19:11:44\\.655116|2022-12-03 19:19:44\\.658174|0 days 00:08:00\\.003058|false|true|true|Wind turbine is reaching 1Hz at some times.|\n",
        "\n",
        "## 03 December - 04 December \n",
        "Only connection statistics, sensor node not responding\n",
        "The logs and backup data are stored at: ~/data/gateway/20221204T103319/\n",
        "\n",
        "## 05 December - Present time \n",
        "Only connection statistics, battery level checked every 30 Min \n",
        "The logs and backup data are stored at: ~/data/gateway/20221205T104940/"
      ]
    },
    {
      "cell_type": "markdown",
      "source": [
        "# Code to extract session and measuremnt data"
      ],
      "metadata": {
        "id": "ndaPT-RR0orf"
      }
    },
    {
      "cell_type": "code",
      "execution_count": null,
      "metadata": {
        "id": "yquuR00Q2QOU"
      },
      "outputs": [],
      "source": [
        "!pip install --upgrade git+https://github.com/aerosense-ai/aerosense-tools.git@feature/add-pre-process"
      ]
    },
    {
      "cell_type": "code",
      "execution_count": null,
      "metadata": {
        "id": "1nCwE969ztrC"
      },
      "outputs": [],
      "source": [
        "import pandas as pd\n",
        "import numpy as np\n",
        "import datetime as dt\n",
        "from aerosense_tools.preprocess import RawSignal\n",
        "from aerosense_tools.preprocess import SensorMeasurementSession"
      ]
    },
    {
      "cell_type": "code",
      "execution_count": null,
      "metadata": {
        "id": "rb2f5t6_0oH8",
        "colab": {
          "base_uri": "https://localhost:8080/"
        },
        "outputId": "6403be36-845d-420d-bc23-8f8482feaefe"
      },
      "outputs": [
        {
          "output_type": "stream",
          "name": "stdout",
          "text": [
            "Mounted at /content/drive\n"
          ]
        }
      ],
      "source": [
        "from google.colab import drive\n",
        "drive.mount('/content/drive')"
      ]
    },
    {
      "cell_type": "code",
      "execution_count": null,
      "metadata": {
        "id": "6dVhhEEF_o52"
      },
      "outputs": [],
      "source": [
        "sensor_signals={}\n",
        "sensor_sessions={}\n",
        "sensor_session_times={}\n",
        "sample_time={}"
      ]
    },
    {
      "cell_type": "code",
      "execution_count": null,
      "metadata": {
        "id": "Rt0AxVM5_5-n"
      },
      "outputs": [],
      "source": [
        "sensor_types = [\n",
        "    'barometer',\n",
        "    'barometer_thermometer',\n",
        "    'differential_barometer',\n",
        "    'accelerometer',\n",
        "    'gyroscope',\n",
        "    ]"
      ]
    },
    {
      "cell_type": "code",
      "execution_count": null,
      "metadata": {
        "id": "THfLZ9XU0l3A"
      },
      "outputs": [],
      "source": [
        "for sensor in sensor_types:\n",
        "  df = pd.read_csv('/content/drive/MyDrive/Share/AeroSense/{}_df_dump.csv'.format(sensor), index_col = 0)\n",
        "  df.index = pd.to_datetime(df.index, format=\"%Y-%m-%d %H:%M:%S\")\n",
        "  sensor_signals[sensor] = RawSignal(df, sensor)"
      ]
    },
    {
      "cell_type": "code",
      "execution_count": null,
      "metadata": {
        "colab": {
          "base_uri": "https://localhost:8080/"
        },
        "id": "4Tl_U2Y0-fgF",
        "outputId": "014afea9-b132-4ce6-de70-ecec388ffe60"
      },
      "outputs": [
        {
          "output_type": "stream",
          "name": "stderr",
          "text": [
            "WARNING:aerosense_tools.preprocess:Sensor type barometer has single measurement points\n",
            "WARNING:aerosense_tools.preprocess:Sensor type barometer_thermometer has single measurement points\n"
          ]
        }
      ],
      "source": [
        "for sensor in sensor_types:\n",
        "  sensor_sessions[sensor], sensor_session_times[sensor] = sensor_signals[sensor].extract_measurement_sessions()"
      ]
    },
    {
      "cell_type": "code",
      "execution_count": null,
      "metadata": {
        "id": "Fkd_UeiDBQrl"
      },
      "outputs": [],
      "source": [
        "for sensor in sensor_types:\n",
        "  sensor_session_times[sensor]['interval']=sensor_session_times[sensor].apply(\n",
        "      lambda row: pd.Interval(row['start'],row['end'], 'both'), axis=1\n",
        "      )\n",
        "  sensor_session_times[sensor]['duration'] = sensor_session_times[sensor]['end'] - sensor_session_times[sensor]['start']\n",
        "  \n",
        "\n",
        "for sensor in ['differential_barometer','accelerometer', 'gyroscope']:\n",
        "  intervals = pd.arrays.IntervalArray(sensor_session_times[sensor]['interval'])\n",
        "\n",
        "  sensor_session_times['barometer'][sensor]=sensor_session_times['barometer'].apply(\n",
        "      lambda row: any(intervals.overlaps(row['interval'])), axis=1\n",
        "  )"
      ]
    },
    {
      "cell_type": "code",
      "execution_count": null,
      "metadata": {
        "id": "1mi7yHouBkus"
      },
      "outputs": [],
      "source": [
        "sensor_session_times['barometer'][\"Note\"]=\"\"\n",
        "sensor_session_times['barometer'].drop('interval', axis=1)"
      ]
    },
    {
      "cell_type": "markdown",
      "metadata": {
        "id": "ZZjv5454NMZj"
      },
      "source": [
        "# Plots"
      ]
    },
    {
      "cell_type": "code",
      "execution_count": null,
      "metadata": {
        "colab": {
          "base_uri": "https://localhost:8080/",
          "height": 424
        },
        "id": "pQykesiuQkCZ",
        "outputId": "43519cf1-a2f6-47e9-cfa9-eda119c63244"
      },
      "outputs": [
        {
          "output_type": "execute_result",
          "data": {
            "text/plain": [
              "                        start                        end  \\\n",
              "0  2022-12-02 09:53:31.306850 2022-12-02 10:03:51.497933   \n",
              "1  2022-12-02 10:31:32.690053 2022-12-02 10:41:52.921007   \n",
              "2  2022-12-02 11:41:26.928771 2022-12-02 11:41:33.226363   \n",
              "3  2022-12-02 11:46:46.069424 2022-12-02 11:47:37.064679   \n",
              "4  2022-12-02 11:56:23.180104 2022-12-02 11:57:14.132492   \n",
              "..                        ...                        ...   \n",
              "63 2022-12-03 17:11:42.037886 2022-12-03 17:22:02.335355   \n",
              "64 2022-12-03 17:41:42.097102 2022-12-03 17:52:02.424096   \n",
              "65 2022-12-03 18:11:42.208399 2022-12-03 18:22:02.532974   \n",
              "66 2022-12-03 18:41:42.323882 2022-12-03 18:45:47.898348   \n",
              "67 2022-12-03 19:11:42.299098 2022-12-03 19:22:04.532546   \n",
              "\n",
              "                                             interval               duration  \n",
              "0   [2022-12-02 09:53:31.306850, 2022-12-02 10:03:... 0 days 00:10:20.191083  \n",
              "1   [2022-12-02 10:31:32.690053, 2022-12-02 10:41:... 0 days 00:10:20.230954  \n",
              "2   [2022-12-02 11:41:26.928771, 2022-12-02 11:41:... 0 days 00:00:06.297592  \n",
              "3   [2022-12-02 11:46:46.069424, 2022-12-02 11:47:... 0 days 00:00:50.995255  \n",
              "4   [2022-12-02 11:56:23.180104, 2022-12-02 11:57:... 0 days 00:00:50.952388  \n",
              "..                                                ...                    ...  \n",
              "63  [2022-12-03 17:11:42.037886, 2022-12-03 17:22:... 0 days 00:10:20.297469  \n",
              "64  [2022-12-03 17:41:42.097102, 2022-12-03 17:52:... 0 days 00:10:20.326994  \n",
              "65  [2022-12-03 18:11:42.208399, 2022-12-03 18:22:... 0 days 00:10:20.324575  \n",
              "66  [2022-12-03 18:41:42.323882, 2022-12-03 18:45:... 0 days 00:04:05.574466  \n",
              "67  [2022-12-03 19:11:42.299098, 2022-12-03 19:22:... 0 days 00:10:22.233448  \n",
              "\n",
              "[68 rows x 4 columns]"
            ],
            "text/html": [
              "\n",
              "  <div id=\"df-a8cf7ca1-ec8d-48ca-ae1b-6a7f9053effa\">\n",
              "    <div class=\"colab-df-container\">\n",
              "      <div>\n",
              "<style scoped>\n",
              "    .dataframe tbody tr th:only-of-type {\n",
              "        vertical-align: middle;\n",
              "    }\n",
              "\n",
              "    .dataframe tbody tr th {\n",
              "        vertical-align: top;\n",
              "    }\n",
              "\n",
              "    .dataframe thead th {\n",
              "        text-align: right;\n",
              "    }\n",
              "</style>\n",
              "<table border=\"1\" class=\"dataframe\">\n",
              "  <thead>\n",
              "    <tr style=\"text-align: right;\">\n",
              "      <th></th>\n",
              "      <th>start</th>\n",
              "      <th>end</th>\n",
              "      <th>interval</th>\n",
              "      <th>duration</th>\n",
              "    </tr>\n",
              "  </thead>\n",
              "  <tbody>\n",
              "    <tr>\n",
              "      <th>0</th>\n",
              "      <td>2022-12-02 09:53:31.306850</td>\n",
              "      <td>2022-12-02 10:03:51.497933</td>\n",
              "      <td>[2022-12-02 09:53:31.306850, 2022-12-02 10:03:...</td>\n",
              "      <td>0 days 00:10:20.191083</td>\n",
              "    </tr>\n",
              "    <tr>\n",
              "      <th>1</th>\n",
              "      <td>2022-12-02 10:31:32.690053</td>\n",
              "      <td>2022-12-02 10:41:52.921007</td>\n",
              "      <td>[2022-12-02 10:31:32.690053, 2022-12-02 10:41:...</td>\n",
              "      <td>0 days 00:10:20.230954</td>\n",
              "    </tr>\n",
              "    <tr>\n",
              "      <th>2</th>\n",
              "      <td>2022-12-02 11:41:26.928771</td>\n",
              "      <td>2022-12-02 11:41:33.226363</td>\n",
              "      <td>[2022-12-02 11:41:26.928771, 2022-12-02 11:41:...</td>\n",
              "      <td>0 days 00:00:06.297592</td>\n",
              "    </tr>\n",
              "    <tr>\n",
              "      <th>3</th>\n",
              "      <td>2022-12-02 11:46:46.069424</td>\n",
              "      <td>2022-12-02 11:47:37.064679</td>\n",
              "      <td>[2022-12-02 11:46:46.069424, 2022-12-02 11:47:...</td>\n",
              "      <td>0 days 00:00:50.995255</td>\n",
              "    </tr>\n",
              "    <tr>\n",
              "      <th>4</th>\n",
              "      <td>2022-12-02 11:56:23.180104</td>\n",
              "      <td>2022-12-02 11:57:14.132492</td>\n",
              "      <td>[2022-12-02 11:56:23.180104, 2022-12-02 11:57:...</td>\n",
              "      <td>0 days 00:00:50.952388</td>\n",
              "    </tr>\n",
              "    <tr>\n",
              "      <th>...</th>\n",
              "      <td>...</td>\n",
              "      <td>...</td>\n",
              "      <td>...</td>\n",
              "      <td>...</td>\n",
              "    </tr>\n",
              "    <tr>\n",
              "      <th>63</th>\n",
              "      <td>2022-12-03 17:11:42.037886</td>\n",
              "      <td>2022-12-03 17:22:02.335355</td>\n",
              "      <td>[2022-12-03 17:11:42.037886, 2022-12-03 17:22:...</td>\n",
              "      <td>0 days 00:10:20.297469</td>\n",
              "    </tr>\n",
              "    <tr>\n",
              "      <th>64</th>\n",
              "      <td>2022-12-03 17:41:42.097102</td>\n",
              "      <td>2022-12-03 17:52:02.424096</td>\n",
              "      <td>[2022-12-03 17:41:42.097102, 2022-12-03 17:52:...</td>\n",
              "      <td>0 days 00:10:20.326994</td>\n",
              "    </tr>\n",
              "    <tr>\n",
              "      <th>65</th>\n",
              "      <td>2022-12-03 18:11:42.208399</td>\n",
              "      <td>2022-12-03 18:22:02.532974</td>\n",
              "      <td>[2022-12-03 18:11:42.208399, 2022-12-03 18:22:...</td>\n",
              "      <td>0 days 00:10:20.324575</td>\n",
              "    </tr>\n",
              "    <tr>\n",
              "      <th>66</th>\n",
              "      <td>2022-12-03 18:41:42.323882</td>\n",
              "      <td>2022-12-03 18:45:47.898348</td>\n",
              "      <td>[2022-12-03 18:41:42.323882, 2022-12-03 18:45:...</td>\n",
              "      <td>0 days 00:04:05.574466</td>\n",
              "    </tr>\n",
              "    <tr>\n",
              "      <th>67</th>\n",
              "      <td>2022-12-03 19:11:42.299098</td>\n",
              "      <td>2022-12-03 19:22:04.532546</td>\n",
              "      <td>[2022-12-03 19:11:42.299098, 2022-12-03 19:22:...</td>\n",
              "      <td>0 days 00:10:22.233448</td>\n",
              "    </tr>\n",
              "  </tbody>\n",
              "</table>\n",
              "<p>68 rows × 4 columns</p>\n",
              "</div>\n",
              "      <button class=\"colab-df-convert\" onclick=\"convertToInteractive('df-a8cf7ca1-ec8d-48ca-ae1b-6a7f9053effa')\"\n",
              "              title=\"Convert this dataframe to an interactive table.\"\n",
              "              style=\"display:none;\">\n",
              "        \n",
              "  <svg xmlns=\"http://www.w3.org/2000/svg\" height=\"24px\"viewBox=\"0 0 24 24\"\n",
              "       width=\"24px\">\n",
              "    <path d=\"M0 0h24v24H0V0z\" fill=\"none\"/>\n",
              "    <path d=\"M18.56 5.44l.94 2.06.94-2.06 2.06-.94-2.06-.94-.94-2.06-.94 2.06-2.06.94zm-11 1L8.5 8.5l.94-2.06 2.06-.94-2.06-.94L8.5 2.5l-.94 2.06-2.06.94zm10 10l.94 2.06.94-2.06 2.06-.94-2.06-.94-.94-2.06-.94 2.06-2.06.94z\"/><path d=\"M17.41 7.96l-1.37-1.37c-.4-.4-.92-.59-1.43-.59-.52 0-1.04.2-1.43.59L10.3 9.45l-7.72 7.72c-.78.78-.78 2.05 0 2.83L4 21.41c.39.39.9.59 1.41.59.51 0 1.02-.2 1.41-.59l7.78-7.78 2.81-2.81c.8-.78.8-2.07 0-2.86zM5.41 20L4 18.59l7.72-7.72 1.47 1.35L5.41 20z\"/>\n",
              "  </svg>\n",
              "      </button>\n",
              "      \n",
              "  <style>\n",
              "    .colab-df-container {\n",
              "      display:flex;\n",
              "      flex-wrap:wrap;\n",
              "      gap: 12px;\n",
              "    }\n",
              "\n",
              "    .colab-df-convert {\n",
              "      background-color: #E8F0FE;\n",
              "      border: none;\n",
              "      border-radius: 50%;\n",
              "      cursor: pointer;\n",
              "      display: none;\n",
              "      fill: #1967D2;\n",
              "      height: 32px;\n",
              "      padding: 0 0 0 0;\n",
              "      width: 32px;\n",
              "    }\n",
              "\n",
              "    .colab-df-convert:hover {\n",
              "      background-color: #E2EBFA;\n",
              "      box-shadow: 0px 1px 2px rgba(60, 64, 67, 0.3), 0px 1px 3px 1px rgba(60, 64, 67, 0.15);\n",
              "      fill: #174EA6;\n",
              "    }\n",
              "\n",
              "    [theme=dark] .colab-df-convert {\n",
              "      background-color: #3B4455;\n",
              "      fill: #D2E3FC;\n",
              "    }\n",
              "\n",
              "    [theme=dark] .colab-df-convert:hover {\n",
              "      background-color: #434B5C;\n",
              "      box-shadow: 0px 1px 3px 1px rgba(0, 0, 0, 0.15);\n",
              "      filter: drop-shadow(0px 1px 2px rgba(0, 0, 0, 0.3));\n",
              "      fill: #FFFFFF;\n",
              "    }\n",
              "  </style>\n",
              "\n",
              "      <script>\n",
              "        const buttonEl =\n",
              "          document.querySelector('#df-a8cf7ca1-ec8d-48ca-ae1b-6a7f9053effa button.colab-df-convert');\n",
              "        buttonEl.style.display =\n",
              "          google.colab.kernel.accessAllowed ? 'block' : 'none';\n",
              "\n",
              "        async function convertToInteractive(key) {\n",
              "          const element = document.querySelector('#df-a8cf7ca1-ec8d-48ca-ae1b-6a7f9053effa');\n",
              "          const dataTable =\n",
              "            await google.colab.kernel.invokeFunction('convertToInteractive',\n",
              "                                                     [key], {});\n",
              "          if (!dataTable) return;\n",
              "\n",
              "          const docLinkHtml = 'Like what you see? Visit the ' +\n",
              "            '<a target=\"_blank\" href=https://colab.research.google.com/notebooks/data_table.ipynb>data table notebook</a>'\n",
              "            + ' to learn more about interactive tables.';\n",
              "          element.innerHTML = '';\n",
              "          dataTable['output_type'] = 'display_data';\n",
              "          await google.colab.output.renderOutput(dataTable, element);\n",
              "          const docLink = document.createElement('div');\n",
              "          docLink.innerHTML = docLinkHtml;\n",
              "          element.appendChild(docLink);\n",
              "        }\n",
              "      </script>\n",
              "    </div>\n",
              "  </div>\n",
              "  "
            ]
          },
          "metadata": {},
          "execution_count": 48
        }
      ],
      "source": [
        "sensor_session_times['accelerometer']"
      ]
    },
    {
      "cell_type": "code",
      "source": [
        "sensor_session_times['differential_barometer']"
      ],
      "metadata": {
        "id": "8j61f6p1gIcX",
        "outputId": "66cd857f-7c95-4839-a6f1-bd34a430ad58",
        "colab": {
          "base_uri": "https://localhost:8080/",
          "height": 424
        }
      },
      "execution_count": null,
      "outputs": [
        {
          "output_type": "execute_result",
          "data": {
            "text/plain": [
              "                        start                        end  \\\n",
              "0  2022-12-02 10:01:43.656343 2022-12-02 10:03:43.770917   \n",
              "1  2022-12-02 10:39:45.010967 2022-12-02 10:41:45.127493   \n",
              "2  2022-12-02 11:38:59.891437 2022-12-02 11:39:24.368050   \n",
              "3  2022-12-02 11:47:18.386129 2022-12-02 11:47:28.392717   \n",
              "4  2022-12-02 11:56:55.494413 2022-12-02 11:57:05.467488   \n",
              "..                        ...                        ...   \n",
              "56 2022-12-03 16:49:54.246683 2022-12-03 16:51:54.806875   \n",
              "57 2022-12-03 17:19:54.304254 2022-12-03 17:21:54.302644   \n",
              "58 2022-12-03 17:49:54.443066 2022-12-03 17:51:54.528745   \n",
              "59 2022-12-03 18:19:54.489881 2022-12-03 18:21:54.603932   \n",
              "60 2022-12-03 19:19:54.673433 2022-12-03 19:21:54.763225   \n",
              "\n",
              "                                             interval               duration  \n",
              "0   [2022-12-02 10:01:43.656343, 2022-12-02 10:03:... 0 days 00:02:00.114574  \n",
              "1   [2022-12-02 10:39:45.010967, 2022-12-02 10:41:... 0 days 00:02:00.116526  \n",
              "2   [2022-12-02 11:38:59.891437, 2022-12-02 11:39:... 0 days 00:00:24.476613  \n",
              "3   [2022-12-02 11:47:18.386129, 2022-12-02 11:47:... 0 days 00:00:10.006588  \n",
              "4   [2022-12-02 11:56:55.494413, 2022-12-02 11:57:... 0 days 00:00:09.973075  \n",
              "..                                                ...                    ...  \n",
              "56  [2022-12-03 16:49:54.246683, 2022-12-03 16:51:... 0 days 00:02:00.560192  \n",
              "57  [2022-12-03 17:19:54.304254, 2022-12-03 17:21:... 0 days 00:01:59.998390  \n",
              "58  [2022-12-03 17:49:54.443066, 2022-12-03 17:51:... 0 days 00:02:00.085679  \n",
              "59  [2022-12-03 18:19:54.489881, 2022-12-03 18:21:... 0 days 00:02:00.114051  \n",
              "60  [2022-12-03 19:19:54.673433, 2022-12-03 19:21:... 0 days 00:02:00.089792  \n",
              "\n",
              "[61 rows x 4 columns]"
            ],
            "text/html": [
              "\n",
              "  <div id=\"df-400358d6-ad6e-4f69-8965-6103140278fe\">\n",
              "    <div class=\"colab-df-container\">\n",
              "      <div>\n",
              "<style scoped>\n",
              "    .dataframe tbody tr th:only-of-type {\n",
              "        vertical-align: middle;\n",
              "    }\n",
              "\n",
              "    .dataframe tbody tr th {\n",
              "        vertical-align: top;\n",
              "    }\n",
              "\n",
              "    .dataframe thead th {\n",
              "        text-align: right;\n",
              "    }\n",
              "</style>\n",
              "<table border=\"1\" class=\"dataframe\">\n",
              "  <thead>\n",
              "    <tr style=\"text-align: right;\">\n",
              "      <th></th>\n",
              "      <th>start</th>\n",
              "      <th>end</th>\n",
              "      <th>interval</th>\n",
              "      <th>duration</th>\n",
              "    </tr>\n",
              "  </thead>\n",
              "  <tbody>\n",
              "    <tr>\n",
              "      <th>0</th>\n",
              "      <td>2022-12-02 10:01:43.656343</td>\n",
              "      <td>2022-12-02 10:03:43.770917</td>\n",
              "      <td>[2022-12-02 10:01:43.656343, 2022-12-02 10:03:...</td>\n",
              "      <td>0 days 00:02:00.114574</td>\n",
              "    </tr>\n",
              "    <tr>\n",
              "      <th>1</th>\n",
              "      <td>2022-12-02 10:39:45.010967</td>\n",
              "      <td>2022-12-02 10:41:45.127493</td>\n",
              "      <td>[2022-12-02 10:39:45.010967, 2022-12-02 10:41:...</td>\n",
              "      <td>0 days 00:02:00.116526</td>\n",
              "    </tr>\n",
              "    <tr>\n",
              "      <th>2</th>\n",
              "      <td>2022-12-02 11:38:59.891437</td>\n",
              "      <td>2022-12-02 11:39:24.368050</td>\n",
              "      <td>[2022-12-02 11:38:59.891437, 2022-12-02 11:39:...</td>\n",
              "      <td>0 days 00:00:24.476613</td>\n",
              "    </tr>\n",
              "    <tr>\n",
              "      <th>3</th>\n",
              "      <td>2022-12-02 11:47:18.386129</td>\n",
              "      <td>2022-12-02 11:47:28.392717</td>\n",
              "      <td>[2022-12-02 11:47:18.386129, 2022-12-02 11:47:...</td>\n",
              "      <td>0 days 00:00:10.006588</td>\n",
              "    </tr>\n",
              "    <tr>\n",
              "      <th>4</th>\n",
              "      <td>2022-12-02 11:56:55.494413</td>\n",
              "      <td>2022-12-02 11:57:05.467488</td>\n",
              "      <td>[2022-12-02 11:56:55.494413, 2022-12-02 11:57:...</td>\n",
              "      <td>0 days 00:00:09.973075</td>\n",
              "    </tr>\n",
              "    <tr>\n",
              "      <th>...</th>\n",
              "      <td>...</td>\n",
              "      <td>...</td>\n",
              "      <td>...</td>\n",
              "      <td>...</td>\n",
              "    </tr>\n",
              "    <tr>\n",
              "      <th>56</th>\n",
              "      <td>2022-12-03 16:49:54.246683</td>\n",
              "      <td>2022-12-03 16:51:54.806875</td>\n",
              "      <td>[2022-12-03 16:49:54.246683, 2022-12-03 16:51:...</td>\n",
              "      <td>0 days 00:02:00.560192</td>\n",
              "    </tr>\n",
              "    <tr>\n",
              "      <th>57</th>\n",
              "      <td>2022-12-03 17:19:54.304254</td>\n",
              "      <td>2022-12-03 17:21:54.302644</td>\n",
              "      <td>[2022-12-03 17:19:54.304254, 2022-12-03 17:21:...</td>\n",
              "      <td>0 days 00:01:59.998390</td>\n",
              "    </tr>\n",
              "    <tr>\n",
              "      <th>58</th>\n",
              "      <td>2022-12-03 17:49:54.443066</td>\n",
              "      <td>2022-12-03 17:51:54.528745</td>\n",
              "      <td>[2022-12-03 17:49:54.443066, 2022-12-03 17:51:...</td>\n",
              "      <td>0 days 00:02:00.085679</td>\n",
              "    </tr>\n",
              "    <tr>\n",
              "      <th>59</th>\n",
              "      <td>2022-12-03 18:19:54.489881</td>\n",
              "      <td>2022-12-03 18:21:54.603932</td>\n",
              "      <td>[2022-12-03 18:19:54.489881, 2022-12-03 18:21:...</td>\n",
              "      <td>0 days 00:02:00.114051</td>\n",
              "    </tr>\n",
              "    <tr>\n",
              "      <th>60</th>\n",
              "      <td>2022-12-03 19:19:54.673433</td>\n",
              "      <td>2022-12-03 19:21:54.763225</td>\n",
              "      <td>[2022-12-03 19:19:54.673433, 2022-12-03 19:21:...</td>\n",
              "      <td>0 days 00:02:00.089792</td>\n",
              "    </tr>\n",
              "  </tbody>\n",
              "</table>\n",
              "<p>61 rows × 4 columns</p>\n",
              "</div>\n",
              "      <button class=\"colab-df-convert\" onclick=\"convertToInteractive('df-400358d6-ad6e-4f69-8965-6103140278fe')\"\n",
              "              title=\"Convert this dataframe to an interactive table.\"\n",
              "              style=\"display:none;\">\n",
              "        \n",
              "  <svg xmlns=\"http://www.w3.org/2000/svg\" height=\"24px\"viewBox=\"0 0 24 24\"\n",
              "       width=\"24px\">\n",
              "    <path d=\"M0 0h24v24H0V0z\" fill=\"none\"/>\n",
              "    <path d=\"M18.56 5.44l.94 2.06.94-2.06 2.06-.94-2.06-.94-.94-2.06-.94 2.06-2.06.94zm-11 1L8.5 8.5l.94-2.06 2.06-.94-2.06-.94L8.5 2.5l-.94 2.06-2.06.94zm10 10l.94 2.06.94-2.06 2.06-.94-2.06-.94-.94-2.06-.94 2.06-2.06.94z\"/><path d=\"M17.41 7.96l-1.37-1.37c-.4-.4-.92-.59-1.43-.59-.52 0-1.04.2-1.43.59L10.3 9.45l-7.72 7.72c-.78.78-.78 2.05 0 2.83L4 21.41c.39.39.9.59 1.41.59.51 0 1.02-.2 1.41-.59l7.78-7.78 2.81-2.81c.8-.78.8-2.07 0-2.86zM5.41 20L4 18.59l7.72-7.72 1.47 1.35L5.41 20z\"/>\n",
              "  </svg>\n",
              "      </button>\n",
              "      \n",
              "  <style>\n",
              "    .colab-df-container {\n",
              "      display:flex;\n",
              "      flex-wrap:wrap;\n",
              "      gap: 12px;\n",
              "    }\n",
              "\n",
              "    .colab-df-convert {\n",
              "      background-color: #E8F0FE;\n",
              "      border: none;\n",
              "      border-radius: 50%;\n",
              "      cursor: pointer;\n",
              "      display: none;\n",
              "      fill: #1967D2;\n",
              "      height: 32px;\n",
              "      padding: 0 0 0 0;\n",
              "      width: 32px;\n",
              "    }\n",
              "\n",
              "    .colab-df-convert:hover {\n",
              "      background-color: #E2EBFA;\n",
              "      box-shadow: 0px 1px 2px rgba(60, 64, 67, 0.3), 0px 1px 3px 1px rgba(60, 64, 67, 0.15);\n",
              "      fill: #174EA6;\n",
              "    }\n",
              "\n",
              "    [theme=dark] .colab-df-convert {\n",
              "      background-color: #3B4455;\n",
              "      fill: #D2E3FC;\n",
              "    }\n",
              "\n",
              "    [theme=dark] .colab-df-convert:hover {\n",
              "      background-color: #434B5C;\n",
              "      box-shadow: 0px 1px 3px 1px rgba(0, 0, 0, 0.15);\n",
              "      filter: drop-shadow(0px 1px 2px rgba(0, 0, 0, 0.3));\n",
              "      fill: #FFFFFF;\n",
              "    }\n",
              "  </style>\n",
              "\n",
              "      <script>\n",
              "        const buttonEl =\n",
              "          document.querySelector('#df-400358d6-ad6e-4f69-8965-6103140278fe button.colab-df-convert');\n",
              "        buttonEl.style.display =\n",
              "          google.colab.kernel.accessAllowed ? 'block' : 'none';\n",
              "\n",
              "        async function convertToInteractive(key) {\n",
              "          const element = document.querySelector('#df-400358d6-ad6e-4f69-8965-6103140278fe');\n",
              "          const dataTable =\n",
              "            await google.colab.kernel.invokeFunction('convertToInteractive',\n",
              "                                                     [key], {});\n",
              "          if (!dataTable) return;\n",
              "\n",
              "          const docLinkHtml = 'Like what you see? Visit the ' +\n",
              "            '<a target=\"_blank\" href=https://colab.research.google.com/notebooks/data_table.ipynb>data table notebook</a>'\n",
              "            + ' to learn more about interactive tables.';\n",
              "          element.innerHTML = '';\n",
              "          dataTable['output_type'] = 'display_data';\n",
              "          await google.colab.output.renderOutput(dataTable, element);\n",
              "          const docLink = document.createElement('div');\n",
              "          docLink.innerHTML = docLinkHtml;\n",
              "          element.appendChild(docLink);\n",
              "        }\n",
              "      </script>\n",
              "    </div>\n",
              "  </div>\n",
              "  "
            ]
          },
          "metadata": {},
          "execution_count": 49
        }
      ]
    },
    {
      "cell_type": "code",
      "source": [
        "sensor_types_metadata = {\n",
        "    \"accelerometer\": {\n",
        "        \"description\": \"Accelerometer Measurement Series\",\n",
        "        \"variable\": \"Acceleration [m/s²]\",\n",
        "        \"sensors\": [\"Acc. Direction 1\", \"Acc. Direction 2\", \"Acc. Direction 3\"],\n",
        "        },\n",
        "    \"barometer\": {\n",
        "        \"description\": \"Absolute Barometer Measurement Series\",\n",
        "        \"variable\": \"Pressure [Pa]\",\n",
        "        \"sensors\": [\"Abs. Baro. Sensor {}\".format(i) for i in range(40)],\n",
        "    },\n",
        "    \"barometer_thermometer\": {\n",
        "        \"description\": \"Temperature from Absolute Barometer Sensor Measurement Series\",\n",
        "        \"variable\": \"Temperature [C]\",\n",
        "        \"sensors\": [\"Temp. Sensor {}\".format(i) for i in range(40)]\n",
        "    },\n",
        "    \"connection_statistics\": {\n",
        "        \"description\": \"Connection Statistics\",\n",
        "        \"variable\": [\n",
        "            \"Transmitting Power [W]\",\n",
        "            \"Allocated Heap Memory [Bytes]\",\n",
        "            \"Received signal strength indication: Raw [dBm]\",\n",
        "            \"Received signal strength indication: Filtered [dBm]\"\n",
        "        ],\n",
        "        \"sensors\": [\"Conn. Stat. {}\".format(i) for i in range(4)]\n",
        "    },\n",
        "    \"differential_barometer\": {\n",
        "        \"description\": \"Differential Barometer Measurement Series\",\n",
        "        \"variable\": \"Differential Pressure [Pa]\",\n",
        "        \"sensors\": [\"Diff. Baro. Sensor {}\".format(i) for i in range(5)],\n",
        "        },\n",
        "    \"gyroscope\": {\n",
        "        \"description\": \"Gyroscope Measurement Series\",\n",
        "        \"variable\": \"Angular Velocity [s⁻¹]\",\n",
        "        \"sensors\": [\"Gyro. Direction 1\", \"Gyro. Direction 2\", \"Gyro. Direction 3\"],\n",
        "        },\n",
        "    \"magnetometer\": {\n",
        "        \"description\": \"Magnetometer Measurement Series\",\n",
        "        \"variable\": \"Magnetic Momemnt [A⋅m²]\",\n",
        "        \"sensors\": [\"Mag. Direction 1\", \"Mag. Direction 2\", \"Mag. Direction 3\"],\n",
        "        },\n",
        "}"
      ],
      "metadata": {
        "id": "qtXuAopVUSpm"
      },
      "execution_count": null,
      "outputs": []
    },
    {
      "cell_type": "code",
      "execution_count": null,
      "metadata": {
        "id": "ZOSrOhitPaaW"
      },
      "outputs": [],
      "source": [
        "sensor_sessions['accelerometer'][42].plot(sensor_types_metadata)"
      ]
    },
    {
      "cell_type": "code",
      "execution_count": null,
      "metadata": {
        "id": "Ju6Rpx5inC9g"
      },
      "outputs": [],
      "source": [
        "sensor_sessions['barometer'][45].plot(\n",
        "    sensor_types_metadata,\n",
        "    sensor_names=[\"Abs. Baro. Sensor 8\", \"Abs. Baro. Sensor 10\", \"Abs. Baro. Sensor 15\"]\n",
        ")"
      ]
    },
    {
      "cell_type": "code",
      "execution_count": null,
      "metadata": {
        "id": "vkwT_yVKvNgR"
      },
      "outputs": [],
      "source": [
        "sensor_sessions['barometer'][45].plot(\n",
        "    sensor_types_metadata,\n",
        "    plot_start_offset=dt.timedelta(minutes=6),\n",
        "    plot_max_time=dt.timedelta(minutes=1)\n",
        ")"
      ]
    },
    {
      "cell_type": "code",
      "source": [
        "trimmed_session = sensor_sessions['differential_barometer'][30].trim_session(trim_from_end=dt.timedelta(seconds=1))"
      ],
      "metadata": {
        "id": "By8VrP-qYXnN"
      },
      "execution_count": null,
      "outputs": []
    },
    {
      "cell_type": "code",
      "source": [
        "trimmed_session.plot(\n",
        "    sensor_types_metadata,\n",
        "    sensor_names=[\"Diff. Baro. Sensor 0\", \"Diff. Baro. Sensor 2\", \"Diff. Baro. Sensor 4\"]\n",
        ")"
      ],
      "metadata": {
        "id": "SowwOaVhghW1"
      },
      "execution_count": null,
      "outputs": []
    },
    {
      "cell_type": "code",
      "execution_count": null,
      "metadata": {
        "id": "gSjsTOxYHxwA"
      },
      "outputs": [],
      "source": [
        "resampled_session = SensorMeasurementSession(\n",
        "    sensor_signals['accelerometer'].dataframe.resample('10s').mean(),\n",
        "    'accelerometer'\n",
        ")\n",
        "resampled_session.plot(sensor_types_metadata)"
      ]
    },
    {
      "cell_type": "code",
      "execution_count": null,
      "metadata": {
        "id": "-IUdDZvGoK-I",
        "colab": {
          "base_uri": "https://localhost:8080/",
          "height": 542
        },
        "outputId": "a9f7b128-68ac-4e28-b888-35b4d40a054a"
      },
      "outputs": [
        {
          "output_type": "display_data",
          "data": {
            "text/html": [
              "<html>\n",
              "<head><meta charset=\"utf-8\" /></head>\n",
              "<body>\n",
              "    <div>            <script src=\"https://cdnjs.cloudflare.com/ajax/libs/mathjax/2.7.5/MathJax.js?config=TeX-AMS-MML_SVG\"></script><script type=\"text/javascript\">if (window.MathJax && window.MathJax.Hub && window.MathJax.Hub.Config) {window.MathJax.Hub.Config({SVG: {font: \"STIX-Web\"}});}</script>                <script type=\"text/javascript\">window.PlotlyConfig = {MathJaxConfig: 'local'};</script>\n",
              "        <script src=\"https://cdn.plot.ly/plotly-2.16.1.min.js\"></script>                <div id=\"7cde2e82-d323-4493-9f84-a30a67a149dc\" class=\"plotly-graph-div\" style=\"height:525px; width:100%;\"></div>            <script type=\"text/javascript\">                                    window.PLOTLYENV=window.PLOTLYENV || {};                                    if (document.getElementById(\"7cde2e82-d323-4493-9f84-a30a67a149dc\")) {                    Plotly.newPlot(                        \"7cde2e82-d323-4493-9f84-a30a67a149dc\",                        [{\"hovertemplate\":\"variable=Temp. Sensor 10<br>datetime=%{x}<br>value=%{y}<extra></extra>\",\"legendgroup\":\"Temp. Sensor 10\",\"line\":{\"color\":\"#636efa\",\"dash\":\"solid\"},\"marker\":{\"symbol\":\"circle\"},\"mode\":\"lines\",\"name\":\"Temp. Sensor 10\",\"orientation\":\"v\",\"showlegend\":true,\"x\":[\"2022-12-02T14:00:00\",\"2022-12-02T14:30:00\",\"2022-12-02T15:00:00\",\"2022-12-02T15:30:00\",\"2022-12-02T16:00:00\",\"2022-12-02T16:30:00\",\"2022-12-02T17:00:00\",\"2022-12-02T17:30:00\",\"2022-12-02T18:00:00\",\"2022-12-02T18:30:00\",\"2022-12-02T19:00:00\",\"2022-12-02T19:30:00\",\"2022-12-02T20:00:00\",\"2022-12-02T20:30:00\",\"2022-12-02T21:00:00\",\"2022-12-02T21:30:00\",\"2022-12-02T22:00:00\",\"2022-12-02T22:30:00\",\"2022-12-02T23:00:00\",\"2022-12-02T23:30:00\",\"2022-12-03T00:00:00\",\"2022-12-03T00:30:00\",\"2022-12-03T01:00:00\",\"2022-12-03T01:30:00\",\"2022-12-03T02:00:00\",\"2022-12-03T02:30:00\",\"2022-12-03T03:00:00\",\"2022-12-03T03:30:00\",\"2022-12-03T04:00:00\",\"2022-12-03T04:30:00\",\"2022-12-03T05:00:00\",\"2022-12-03T05:30:00\",\"2022-12-03T06:00:00\",\"2022-12-03T06:30:00\",\"2022-12-03T07:00:00\",\"2022-12-03T07:30:00\",\"2022-12-03T08:00:00\",\"2022-12-03T08:30:00\",\"2022-12-03T09:00:00\",\"2022-12-03T09:30:00\",\"2022-12-03T10:00:00\",\"2022-12-03T10:30:00\",\"2022-12-03T11:00:00\",\"2022-12-03T11:30:00\",\"2022-12-03T12:00:00\",\"2022-12-03T12:30:00\",\"2022-12-03T13:00:00\",\"2022-12-03T13:30:00\",\"2022-12-03T14:00:00\",\"2022-12-03T14:30:00\",\"2022-12-03T15:00:00\",\"2022-12-03T15:30:00\",\"2022-12-03T16:00:00\",\"2022-12-03T16:30:00\",\"2022-12-03T17:00:00\",\"2022-12-03T17:30:00\",\"2022-12-03T18:00:00\",\"2022-12-03T18:30:00\",\"2022-12-03T19:00:00\",\"2022-12-03T19:30:00\",\"2022-12-03T20:00:00\",\"2022-12-03T20:30:00\",\"2022-12-03T21:00:00\",\"2022-12-03T21:30:00\",\"2022-12-03T22:00:00\",\"2022-12-03T22:30:00\",\"2022-12-03T23:00:00\",\"2022-12-03T23:30:00\",\"2022-12-04T00:00:00\",\"2022-12-04T00:30:00\",\"2022-12-04T01:00:00\",\"2022-12-04T01:30:00\",\"2022-12-04T02:00:00\",\"2022-12-04T02:30:00\",\"2022-12-04T03:00:00\",\"2022-12-04T03:30:00\",\"2022-12-04T04:00:00\",\"2022-12-04T04:30:00\"],\"xaxis\":\"x\",\"y\":[5.0725098994821805,5.388617675744617,2.3785946677775462,1.648730889398042,1.0865243179122184,0.632790421408028,0.5385746719433452,0.35484574111334677,0.33085940429077276,0.3312040412457036,0.2630149968756509,0.8618915035401916,0.7626654166666668,0.8161194091949241,0.6534997916666667,0.4597550510310352,0.23815270833333332,0.04366527893422148,0.12357800458237868,0.1095009373047282,-0.21220583333333332,-0.40047552593209745,-0.43363174232796514,-0.4501395542595293,-0.4030177046448657,-0.3745080158234437,-0.11054155384294939,-0.22255257009345794,-0.03706811081024787,0.04083520833333333,0.08401479474890602,0.16489229166666666,0.08335027813079439,0.283785044782337,0.23689675270607827,0.27367998021516016,0.381377837950427,0.5133236212278877,0.6613793175327789,0.7784446990210374,0.9570953967923349,1.0192539583333333,1.2250352009997918,1.1108929389710478,1.0814060963618486,1.3049050197875445,1.3674777176176593,1.4208675275984168,1.46966958515739,1.6079935443565183,1.6055898771089356,1.4016017496354924,1.1862739012705685,1.054106431357824,1.30580907935582,1.0719277233909603,0.9236313268069153,0.42388550497983374,0.2765529166666667,null,null,null,null,null,null,null,null,null,null,null,null,null,null,null,null,null,null,null],\"yaxis\":\"y\",\"type\":\"scatter\"}],                        {\"template\":{\"data\":{\"histogram2dcontour\":[{\"type\":\"histogram2dcontour\",\"colorbar\":{\"outlinewidth\":0,\"ticks\":\"\"},\"colorscale\":[[0.0,\"#0d0887\"],[0.1111111111111111,\"#46039f\"],[0.2222222222222222,\"#7201a8\"],[0.3333333333333333,\"#9c179e\"],[0.4444444444444444,\"#bd3786\"],[0.5555555555555556,\"#d8576b\"],[0.6666666666666666,\"#ed7953\"],[0.7777777777777778,\"#fb9f3a\"],[0.8888888888888888,\"#fdca26\"],[1.0,\"#f0f921\"]]}],\"choropleth\":[{\"type\":\"choropleth\",\"colorbar\":{\"outlinewidth\":0,\"ticks\":\"\"}}],\"histogram2d\":[{\"type\":\"histogram2d\",\"colorbar\":{\"outlinewidth\":0,\"ticks\":\"\"},\"colorscale\":[[0.0,\"#0d0887\"],[0.1111111111111111,\"#46039f\"],[0.2222222222222222,\"#7201a8\"],[0.3333333333333333,\"#9c179e\"],[0.4444444444444444,\"#bd3786\"],[0.5555555555555556,\"#d8576b\"],[0.6666666666666666,\"#ed7953\"],[0.7777777777777778,\"#fb9f3a\"],[0.8888888888888888,\"#fdca26\"],[1.0,\"#f0f921\"]]}],\"heatmap\":[{\"type\":\"heatmap\",\"colorbar\":{\"outlinewidth\":0,\"ticks\":\"\"},\"colorscale\":[[0.0,\"#0d0887\"],[0.1111111111111111,\"#46039f\"],[0.2222222222222222,\"#7201a8\"],[0.3333333333333333,\"#9c179e\"],[0.4444444444444444,\"#bd3786\"],[0.5555555555555556,\"#d8576b\"],[0.6666666666666666,\"#ed7953\"],[0.7777777777777778,\"#fb9f3a\"],[0.8888888888888888,\"#fdca26\"],[1.0,\"#f0f921\"]]}],\"heatmapgl\":[{\"type\":\"heatmapgl\",\"colorbar\":{\"outlinewidth\":0,\"ticks\":\"\"},\"colorscale\":[[0.0,\"#0d0887\"],[0.1111111111111111,\"#46039f\"],[0.2222222222222222,\"#7201a8\"],[0.3333333333333333,\"#9c179e\"],[0.4444444444444444,\"#bd3786\"],[0.5555555555555556,\"#d8576b\"],[0.6666666666666666,\"#ed7953\"],[0.7777777777777778,\"#fb9f3a\"],[0.8888888888888888,\"#fdca26\"],[1.0,\"#f0f921\"]]}],\"contourcarpet\":[{\"type\":\"contourcarpet\",\"colorbar\":{\"outlinewidth\":0,\"ticks\":\"\"}}],\"contour\":[{\"type\":\"contour\",\"colorbar\":{\"outlinewidth\":0,\"ticks\":\"\"},\"colorscale\":[[0.0,\"#0d0887\"],[0.1111111111111111,\"#46039f\"],[0.2222222222222222,\"#7201a8\"],[0.3333333333333333,\"#9c179e\"],[0.4444444444444444,\"#bd3786\"],[0.5555555555555556,\"#d8576b\"],[0.6666666666666666,\"#ed7953\"],[0.7777777777777778,\"#fb9f3a\"],[0.8888888888888888,\"#fdca26\"],[1.0,\"#f0f921\"]]}],\"surface\":[{\"type\":\"surface\",\"colorbar\":{\"outlinewidth\":0,\"ticks\":\"\"},\"colorscale\":[[0.0,\"#0d0887\"],[0.1111111111111111,\"#46039f\"],[0.2222222222222222,\"#7201a8\"],[0.3333333333333333,\"#9c179e\"],[0.4444444444444444,\"#bd3786\"],[0.5555555555555556,\"#d8576b\"],[0.6666666666666666,\"#ed7953\"],[0.7777777777777778,\"#fb9f3a\"],[0.8888888888888888,\"#fdca26\"],[1.0,\"#f0f921\"]]}],\"mesh3d\":[{\"type\":\"mesh3d\",\"colorbar\":{\"outlinewidth\":0,\"ticks\":\"\"}}],\"scatter\":[{\"fillpattern\":{\"fillmode\":\"overlay\",\"size\":10,\"solidity\":0.2},\"type\":\"scatter\"}],\"parcoords\":[{\"type\":\"parcoords\",\"line\":{\"colorbar\":{\"outlinewidth\":0,\"ticks\":\"\"}}}],\"scatterpolargl\":[{\"type\":\"scatterpolargl\",\"marker\":{\"colorbar\":{\"outlinewidth\":0,\"ticks\":\"\"}}}],\"bar\":[{\"error_x\":{\"color\":\"#2a3f5f\"},\"error_y\":{\"color\":\"#2a3f5f\"},\"marker\":{\"line\":{\"color\":\"#E5ECF6\",\"width\":0.5},\"pattern\":{\"fillmode\":\"overlay\",\"size\":10,\"solidity\":0.2}},\"type\":\"bar\"}],\"scattergeo\":[{\"type\":\"scattergeo\",\"marker\":{\"colorbar\":{\"outlinewidth\":0,\"ticks\":\"\"}}}],\"scatterpolar\":[{\"type\":\"scatterpolar\",\"marker\":{\"colorbar\":{\"outlinewidth\":0,\"ticks\":\"\"}}}],\"histogram\":[{\"marker\":{\"pattern\":{\"fillmode\":\"overlay\",\"size\":10,\"solidity\":0.2}},\"type\":\"histogram\"}],\"scattergl\":[{\"type\":\"scattergl\",\"marker\":{\"colorbar\":{\"outlinewidth\":0,\"ticks\":\"\"}}}],\"scatter3d\":[{\"type\":\"scatter3d\",\"line\":{\"colorbar\":{\"outlinewidth\":0,\"ticks\":\"\"}},\"marker\":{\"colorbar\":{\"outlinewidth\":0,\"ticks\":\"\"}}}],\"scattermapbox\":[{\"type\":\"scattermapbox\",\"marker\":{\"colorbar\":{\"outlinewidth\":0,\"ticks\":\"\"}}}],\"scatterternary\":[{\"type\":\"scatterternary\",\"marker\":{\"colorbar\":{\"outlinewidth\":0,\"ticks\":\"\"}}}],\"scattercarpet\":[{\"type\":\"scattercarpet\",\"marker\":{\"colorbar\":{\"outlinewidth\":0,\"ticks\":\"\"}}}],\"carpet\":[{\"aaxis\":{\"endlinecolor\":\"#2a3f5f\",\"gridcolor\":\"white\",\"linecolor\":\"white\",\"minorgridcolor\":\"white\",\"startlinecolor\":\"#2a3f5f\"},\"baxis\":{\"endlinecolor\":\"#2a3f5f\",\"gridcolor\":\"white\",\"linecolor\":\"white\",\"minorgridcolor\":\"white\",\"startlinecolor\":\"#2a3f5f\"},\"type\":\"carpet\"}],\"table\":[{\"cells\":{\"fill\":{\"color\":\"#EBF0F8\"},\"line\":{\"color\":\"white\"}},\"header\":{\"fill\":{\"color\":\"#C8D4E3\"},\"line\":{\"color\":\"white\"}},\"type\":\"table\"}],\"barpolar\":[{\"marker\":{\"line\":{\"color\":\"#E5ECF6\",\"width\":0.5},\"pattern\":{\"fillmode\":\"overlay\",\"size\":10,\"solidity\":0.2}},\"type\":\"barpolar\"}],\"pie\":[{\"automargin\":true,\"type\":\"pie\"}]},\"layout\":{\"autotypenumbers\":\"strict\",\"colorway\":[\"#636efa\",\"#EF553B\",\"#00cc96\",\"#ab63fa\",\"#FFA15A\",\"#19d3f3\",\"#FF6692\",\"#B6E880\",\"#FF97FF\",\"#FECB52\"],\"font\":{\"color\":\"#2a3f5f\"},\"hovermode\":\"closest\",\"hoverlabel\":{\"align\":\"left\"},\"paper_bgcolor\":\"white\",\"plot_bgcolor\":\"#E5ECF6\",\"polar\":{\"bgcolor\":\"#E5ECF6\",\"angularaxis\":{\"gridcolor\":\"white\",\"linecolor\":\"white\",\"ticks\":\"\"},\"radialaxis\":{\"gridcolor\":\"white\",\"linecolor\":\"white\",\"ticks\":\"\"}},\"ternary\":{\"bgcolor\":\"#E5ECF6\",\"aaxis\":{\"gridcolor\":\"white\",\"linecolor\":\"white\",\"ticks\":\"\"},\"baxis\":{\"gridcolor\":\"white\",\"linecolor\":\"white\",\"ticks\":\"\"},\"caxis\":{\"gridcolor\":\"white\",\"linecolor\":\"white\",\"ticks\":\"\"}},\"coloraxis\":{\"colorbar\":{\"outlinewidth\":0,\"ticks\":\"\"}},\"colorscale\":{\"sequential\":[[0.0,\"#0d0887\"],[0.1111111111111111,\"#46039f\"],[0.2222222222222222,\"#7201a8\"],[0.3333333333333333,\"#9c179e\"],[0.4444444444444444,\"#bd3786\"],[0.5555555555555556,\"#d8576b\"],[0.6666666666666666,\"#ed7953\"],[0.7777777777777778,\"#fb9f3a\"],[0.8888888888888888,\"#fdca26\"],[1.0,\"#f0f921\"]],\"sequentialminus\":[[0.0,\"#0d0887\"],[0.1111111111111111,\"#46039f\"],[0.2222222222222222,\"#7201a8\"],[0.3333333333333333,\"#9c179e\"],[0.4444444444444444,\"#bd3786\"],[0.5555555555555556,\"#d8576b\"],[0.6666666666666666,\"#ed7953\"],[0.7777777777777778,\"#fb9f3a\"],[0.8888888888888888,\"#fdca26\"],[1.0,\"#f0f921\"]],\"diverging\":[[0,\"#8e0152\"],[0.1,\"#c51b7d\"],[0.2,\"#de77ae\"],[0.3,\"#f1b6da\"],[0.4,\"#fde0ef\"],[0.5,\"#f7f7f7\"],[0.6,\"#e6f5d0\"],[0.7,\"#b8e186\"],[0.8,\"#7fbc41\"],[0.9,\"#4d9221\"],[1,\"#276419\"]]},\"xaxis\":{\"gridcolor\":\"white\",\"linecolor\":\"white\",\"ticks\":\"\",\"title\":{\"standoff\":15},\"zerolinecolor\":\"white\",\"automargin\":true,\"zerolinewidth\":2},\"yaxis\":{\"gridcolor\":\"white\",\"linecolor\":\"white\",\"ticks\":\"\",\"title\":{\"standoff\":15},\"zerolinecolor\":\"white\",\"automargin\":true,\"zerolinewidth\":2},\"scene\":{\"xaxis\":{\"backgroundcolor\":\"#E5ECF6\",\"gridcolor\":\"white\",\"linecolor\":\"white\",\"showbackground\":true,\"ticks\":\"\",\"zerolinecolor\":\"white\",\"gridwidth\":2},\"yaxis\":{\"backgroundcolor\":\"#E5ECF6\",\"gridcolor\":\"white\",\"linecolor\":\"white\",\"showbackground\":true,\"ticks\":\"\",\"zerolinecolor\":\"white\",\"gridwidth\":2},\"zaxis\":{\"backgroundcolor\":\"#E5ECF6\",\"gridcolor\":\"white\",\"linecolor\":\"white\",\"showbackground\":true,\"ticks\":\"\",\"zerolinecolor\":\"white\",\"gridwidth\":2}},\"shapedefaults\":{\"line\":{\"color\":\"#2a3f5f\"}},\"annotationdefaults\":{\"arrowcolor\":\"#2a3f5f\",\"arrowhead\":0,\"arrowwidth\":1},\"geo\":{\"bgcolor\":\"white\",\"landcolor\":\"#E5ECF6\",\"subunitcolor\":\"white\",\"showland\":true,\"showlakes\":true,\"lakecolor\":\"white\"},\"title\":{\"x\":0.05},\"mapbox\":{\"style\":\"light\"}}},\"xaxis\":{\"anchor\":\"y\",\"domain\":[0.0,1.0],\"title\":{\"text\":\"Date/Time\"}},\"yaxis\":{\"anchor\":\"x\",\"domain\":[0.0,1.0],\"title\":{\"text\":\"Temperature [C]\"}},\"legend\":{\"title\":{\"text\":\"Sensor\"},\"tracegroupgap\":0},\"margin\":{\"t\":60},\"title\":{\"text\":\"Temperature from Absolute Barometer Sensor Measurement Series\"}},                        {\"responsive\": true}                    ).then(function(){\n",
              "                            \n",
              "var gd = document.getElementById('7cde2e82-d323-4493-9f84-a30a67a149dc');\n",
              "var x = new MutationObserver(function (mutations, observer) {{\n",
              "        var display = window.getComputedStyle(gd).display;\n",
              "        if (!display || display === 'none') {{\n",
              "            console.log([gd, 'removed!']);\n",
              "            Plotly.purge(gd);\n",
              "            observer.disconnect();\n",
              "        }}\n",
              "}});\n",
              "\n",
              "// Listen for the removal of the full notebook cells\n",
              "var notebookContainer = gd.closest('#notebook-container');\n",
              "if (notebookContainer) {{\n",
              "    x.observe(notebookContainer, {childList: true});\n",
              "}}\n",
              "\n",
              "// Listen for the clearing of the current output cell\n",
              "var outputEl = gd.closest('.output');\n",
              "if (outputEl) {{\n",
              "    x.observe(outputEl, {childList: true});\n",
              "}}\n",
              "\n",
              "                        })                };                            </script>        </div>\n",
              "</body>\n",
              "</html>"
            ]
          },
          "metadata": {}
        }
      ],
      "source": [
        "resampled_session = SensorMeasurementSession(\n",
        "    sensor_signals['barometer_thermometer'].dataframe.resample('30Min').mean(),\n",
        "    'barometer_thermometer'\n",
        ")\n",
        "resampled_session.plot(\n",
        "    sensor_types_metadata,\n",
        "    plot_start_offset=dt.timedelta(hours=4),\n",
        "    sensor_names=\"Temp. Sensor 10\")"
      ]
    },
    {
      "cell_type": "code",
      "source": [
        "resampled_session = SensorMeasurementSession(\n",
        "    sensor_signals['differential_barometer'].dataframe.resample('10s').mean(),\n",
        "    'differential_barometer'\n",
        ")\n",
        "resampled_session.plot(sensor_types_metadata)"
      ],
      "metadata": {
        "id": "4CsLCEasfleD"
      },
      "execution_count": null,
      "outputs": []
    }
  ],
  "metadata": {
    "colab": {
      "provenance": [],
      "authorship_tag": "ABX9TyPtVHYSaoIKeBZXtd/kaHKC",
      "include_colab_link": true
    },
    "kernelspec": {
      "display_name": "Python 3",
      "name": "python3"
    },
    "language_info": {
      "name": "python"
    }
  },
  "nbformat": 4,
  "nbformat_minor": 0
}